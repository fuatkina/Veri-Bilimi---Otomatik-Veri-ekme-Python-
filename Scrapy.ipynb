{
 "cells": [
  {
   "cell_type": "markdown",
   "id": "colored-provincial",
   "metadata": {},
   "source": [
    "## Scrapy - imdb film verisi\n",
    "\n",
    "\n",
    "Bu sayfadaki kodları hazırlarken takip eden kaynaktan faydalandım: https://app.datacamp.com/learn/courses/web-scraping-with-python"
   ]
  },
  {
   "cell_type": "markdown",
   "id": "37e3231f-0b74-4618-909d-be2455d1d1fb",
   "metadata": {},
   "source": [
    "Daha önce yapmadıysanız önce ```pip install``` komutunu kullanarak kütüphaneyi indirin."
   ]
  },
  {
   "cell_type": "code",
   "execution_count": null,
   "id": "coordinated-bowling",
   "metadata": {},
   "outputs": [],
   "source": [
    "pip install scrapy"
   ]
  },
  {
   "cell_type": "code",
   "execution_count": null,
   "id": "bored-subscriber",
   "metadata": {},
   "outputs": [],
   "source": [
    "# Scrapy kütüphanesinden Selector metodunu çağırın\n",
    "from scrapy import Selector\n",
    "\n",
    "# requests kütüphanesini indirin\n",
    "import requests\n",
    "\n",
    "url = 'https://m.imdb.com/chart/top'\n",
    "\n",
    "# HTML kaynağını içeren html string'ini oluşturun\n",
    "html = requests.get(url).content\n",
    "\n",
    "# html objesini kullanarak bir Selector objesi tanımlayın\n",
    "sel = Selector(text = html)\n",
    "\n",
    "# HTML belgesindeki öğelerin sayısını yazdırın\n",
    "print( \"You have found: \", len(sel.xpath('//*')))"
   ]
  },
  {
   "cell_type": "code",
   "execution_count": null,
   "id": "unexpected-raising",
   "metadata": {},
   "outputs": [],
   "source": [
    "type(html)"
   ]
  },
  {
   "cell_type": "code",
   "execution_count": null,
   "id": "cathedral-thunder",
   "metadata": {},
   "outputs": [],
   "source": [
    "type(sel)"
   ]
  },
  {
   "cell_type": "code",
   "execution_count": null,
   "id": "respected-russian",
   "metadata": {},
   "outputs": [],
   "source": [
    "xpath_for_movienames ='//*[@id=\"chart-content\"]/div/div/div/a/span/h4'"
   ]
  },
  {
   "cell_type": "markdown",
   "id": "bf9bba6a-376a-4e00-a6fd-a120030fc2d6",
   "metadata": {},
   "source": [
    "Şimdi tanımladığımız xpath'i ve yukarda tanımladığımız Selector objesini kullanarak programın ilgili konuma gidip xpath ile tarif edilen bölümleri getirmesini sağlayın. "
   ]
  },
  {
   "cell_type": "code",
   "execution_count": null,
   "id": "purple-publicity",
   "metadata": {},
   "outputs": [],
   "source": [
    "sel.xpath(xpath_for_movienames).extract()"
   ]
  },
  {
   "cell_type": "code",
   "execution_count": null,
   "id": "possible-throat",
   "metadata": {},
   "outputs": [],
   "source": [
    "len(sel.xpath(xpath_for_movienames).extract())"
   ]
  },
  {
   "cell_type": "code",
   "execution_count": null,
   "id": "deluxe-lobby",
   "metadata": {},
   "outputs": [],
   "source": [
    "# VEYA\n",
    "\n",
    "xpath_for_movienames ='//h4/text()'"
   ]
  },
  {
   "cell_type": "markdown",
   "id": "7e093eea-c3da-471d-a4a1-b16e8d65373b",
   "metadata": {},
   "source": [
    "Bu listeyi bir değişken olarak tanımlayabilirsiniz."
   ]
  },
  {
   "cell_type": "code",
   "execution_count": null,
   "id": "subject-mills",
   "metadata": {},
   "outputs": [],
   "source": [
    "movies = sel.xpath(xpath_for_movienames).extract()"
   ]
  },
  {
   "cell_type": "code",
   "execution_count": null,
   "id": "actual-legislature",
   "metadata": {},
   "outputs": [],
   "source": [
    "movies"
   ]
  },
  {
   "cell_type": "markdown",
   "id": "affecting-operation",
   "metadata": {},
   "source": [
    "#### \"Strip\" fonksiyonu ile elimizdeki metni temizleyelim\n",
    "\n",
    "Bunu yapmadığımızda bir çok boş ve gereksiz karekteri saklamış ve taşımış olacağız. ```Strip``` fonksiyonunu kullanarak bir döngü yaratabilir, ve bu işlemi hızlıca gerçekleştirebilirsiniz."
   ]
  },
  {
   "cell_type": "code",
   "execution_count": null,
   "id": "selected-coordination",
   "metadata": {},
   "outputs": [],
   "source": [
    "movie_list=[]\n",
    "for string in movies:\n",
    "    cleaned_string = string.strip()\n",
    "    if cleaned_string != '':\n",
    "        movie_list.append(cleaned_string)\n",
    "    \n",
    "print(movie_list)"
   ]
  },
  {
   "cell_type": "markdown",
   "id": "18839d69-9cb5-48b0-87b5-c87205222266",
   "metadata": {},
   "source": [
    "İndirdiğiniz ve sakladığınız listenin uzunluğuna göz atın. IMDB listesine göre en beğenilen 250 filmi indirmiş olmalısınız. Doğru sayıya ulaştığınızdan emin olun."
   ]
  },
  {
   "cell_type": "code",
   "execution_count": null,
   "id": "spiritual-exhibition",
   "metadata": {},
   "outputs": [],
   "source": [
    "len(movie_list)"
   ]
  },
  {
   "cell_type": "markdown",
   "id": "solid-boards",
   "metadata": {},
   "source": [
    "#### Filmlerin sıralamasını ve yıllarını çekelim"
   ]
  },
  {
   "cell_type": "markdown",
   "id": "b8ebbbd7-333a-4938-ac75-91f3d0e049d2",
   "metadata": {
    "tags": []
   },
   "source": [
    "Önce filmlerin sıralamasını gösteren xpath'i tanımlamanız, ardından Selector objesini kullanarak bu bölümleri getirmeniz gerekiyor."
   ]
  },
  {
   "cell_type": "code",
   "execution_count": null,
   "id": "creative-rachel",
   "metadata": {},
   "outputs": [],
   "source": [
    "xpath_for_movieorder ='//h4/span[1]/text()'\n",
    "movie_order = sel.xpath(xpath_for_movieorder).extract()"
   ]
  },
  {
   "cell_type": "code",
   "execution_count": null,
   "id": "sealed-concert",
   "metadata": {},
   "outputs": [],
   "source": [
    "xpath_for_moviedates ='//h4/span[2]/text()'\n",
    "movie_date = sel.xpath(xpath_for_moviedates).extract()"
   ]
  },
  {
   "cell_type": "markdown",
   "id": "68282e3d-5e0b-46f8-b10e-7fab00f6f6ba",
   "metadata": {},
   "source": [
    "#### Filmlerin linkleri"
   ]
  },
  {
   "cell_type": "markdown",
   "id": "removable-tribune",
   "metadata": {},
   "source": [
    ">\n",
    ">\n",
    "\n",
    "__İlk film için Xpath'ler:__\n",
    "\n",
    "- //*[@id=\"chart-content\"]/div[1]/div[1]/div/a\n",
    "\n",
    "- //*[@id=\"chart-content\"]/div[1]/div[2]/div/a\n",
    "\n",
    "- //*[@id=\"chart-content\"]/div[2]/div[1]/div/a\n",
    "\n",
    "- //*[@id=\"chart-content\"]/div[2]/div[2]/div/a\n",
    "\n",
    "…\n"
   ]
  },
  {
   "cell_type": "code",
   "execution_count": null,
   "id": "adjusted-cattle",
   "metadata": {},
   "outputs": [],
   "source": [
    "xpath_for_movielink = '//*[@id=\"chart-content\"]/div/div/div/a/@href'\n",
    "movie_link = sel.xpath(xpath_for_movielink).extract()"
   ]
  },
  {
   "cell_type": "code",
   "execution_count": null,
   "id": "measured-cliff",
   "metadata": {},
   "outputs": [],
   "source": [
    "len(movie_link)"
   ]
  },
  {
   "cell_type": "code",
   "execution_count": null,
   "id": "indoor-instrumentation",
   "metadata": {},
   "outputs": [],
   "source": [
    "movie_link"
   ]
  },
  {
   "cell_type": "markdown",
   "id": "endless-belfast",
   "metadata": {},
   "source": [
    "İndirdiğiniz link parçası açmak istediğiniz linkin sadece bir bölümünü içeriyor. O halde bu bölümü linkin kayıp olan kısmıyla birleştirmeniz gerekiyor. Bunu bir döngü yaratarak yapabilirsiniz."
   ]
  },
  {
   "cell_type": "markdown",
   "id": "b7c17403-6fd7-400b-97bf-19aa67665057",
   "metadata": {},
   "source": [
    "The Shawshank Redemption için film linki: \n",
    "\n",
    "\n",
    "https://m.imdb.com/title/tt0111161/?pf_rd_m=A2FGELUUNOQJNL&pf_rd_p=df09bbba-7a44-41c0-bc85-426ba05a5574&pf_rd_r=1TZHFKVGSKZZKVA8TW56&pf_rd_s=top-1&pf_rd_t=15506&pf_rd_i=top&ref_=m_chttp_tt_1"
   ]
  },
  {
   "cell_type": "code",
   "execution_count": null,
   "id": "geographic-seating",
   "metadata": {},
   "outputs": [],
   "source": [
    "first_part_url = 'https://m.imdb.com'\n",
    "last_part_url = '?pf_rd_m=A2FGELUUNOQJNL&pf_rd_p=df09bbba-7a44-41c0-bc85-426ba05a5574&pf_rd_r=R9N3Q0473JZET8YH4S2A&pf_rd_s=top-1&pf_rd_t=15506&pf_rd_i=top&ref_=m_chttp_tt_1'"
   ]
  },
  {
   "cell_type": "code",
   "execution_count": null,
   "id": "collective-france",
   "metadata": {},
   "outputs": [],
   "source": [
    "movie_link_merged = []\n",
    "\n",
    "for i in movie_link:\n",
    "    link = first_part_url + i + last_part_url\n",
    "    movie_link_merged.append(link)"
   ]
  },
  {
   "cell_type": "code",
   "execution_count": null,
   "id": "d0a3e2da-c692-4e28-b2cf-c92e1fe0e360",
   "metadata": {},
   "outputs": [],
   "source": [
    "movie_link[5]"
   ]
  },
  {
   "cell_type": "code",
   "execution_count": null,
   "id": "41d098e3-e0b3-467f-95f5-5eb9512b553f",
   "metadata": {},
   "outputs": [],
   "source": [
    "movie_link_merged[5]"
   ]
  },
  {
   "cell_type": "code",
   "execution_count": null,
   "id": "improving-demand",
   "metadata": {},
   "outputs": [],
   "source": [
    "len(movie_link_merged)"
   ]
  },
  {
   "cell_type": "markdown",
   "id": "amazing-secret",
   "metadata": {},
   "source": [
    "#### İndirdiklerimizi saklayalım"
   ]
  },
  {
   "cell_type": "markdown",
   "id": "2100b8cd-042f-4793-b755-a330eae4718c",
   "metadata": {},
   "source": [
    "Bunun için ilk olarak bir sözlük yaratabilirsiniz."
   ]
  },
  {
   "cell_type": "code",
   "execution_count": null,
   "id": "running-worker",
   "metadata": {},
   "outputs": [],
   "source": [
    "dictimdb = {'movie_order':movie_order, 'movie_date':movie_date, 'movie_list':movie_list, 'movie_link_merged': movie_link_merged}"
   ]
  },
  {
   "cell_type": "markdown",
   "id": "49aa4718-796f-4b7d-8228-3c02153e6558",
   "metadata": {},
   "source": [
    "Fakat pandas dataframe'i sözlükten daha efektif bir şekilde kullanılabilir ve görüntülenebilir. Şimdi elinizdeki sözlüğü bir dataframe'e çevirin."
   ]
  },
  {
   "cell_type": "code",
   "execution_count": null,
   "id": "853c750b-27d4-4239-8dc5-4db9248829b4",
   "metadata": {},
   "outputs": [],
   "source": [
    "import pandas as pd"
   ]
  },
  {
   "cell_type": "code",
   "execution_count": null,
   "id": "alpha-steam",
   "metadata": {},
   "outputs": [],
   "source": [
    "data_imdb = pd.DataFrame(dictimdb)"
   ]
  },
  {
   "cell_type": "code",
   "execution_count": null,
   "id": "international-messaging",
   "metadata": {},
   "outputs": [],
   "source": [
    "data_imdb"
   ]
  },
  {
   "cell_type": "code",
   "execution_count": null,
   "id": "ad01c17b-12e9-432b-b091-ec142ce2e6d4",
   "metadata": {},
   "outputs": [],
   "source": [
    "data_imdb.to_csv(\"IMDB_Filmlerim.csv\")\n",
    "data_imdb.to_json(\"IMDB_Filmlerim.json\")"
   ]
  },
  {
   "cell_type": "markdown",
   "id": "aerial-depression",
   "metadata": {},
   "source": [
    "#### Peki oyuncular\n",
    "\n",
    "Biraz daha ileri gidip bu filmler için oyuncuları da indirmek istersek ne yapmalıyız? En başta tanımladığımız URL'yi hatırlayın. Bunun için sayfadaki ilk hücreye bakmanız yeterli. Elinizdeki 250 tane URL'yi teker teker açılış yapacağınız URL olarak tanımlarsanız, her seferinden baştan yeni bir Selector objesi tanımlayarak ilgili sayfaları dolaşabilir ve aradığınız oyuncu listesini depolayabiliriz."
   ]
  },
  {
   "cell_type": "markdown",
   "id": "bd92a1e3-ea65-48c0-a6fb-7c472451e0d0",
   "metadata": {},
   "source": [
    "Döngü oluşturmadan önce sistemin düzgün çalıştğını kontrol etmek amaçlı ilk film için oyuncu listesini çekmeyi deneyin."
   ]
  },
  {
   "cell_type": "code",
   "execution_count": null,
   "id": "0a7751d6-9b6b-4ac5-a2f5-187e6c197945",
   "metadata": {},
   "outputs": [],
   "source": [
    "data_imdb['movie_link_merged'][0]"
   ]
  },
  {
   "cell_type": "code",
   "execution_count": null,
   "id": "municipal-shape",
   "metadata": {},
   "outputs": [],
   "source": [
    "url = data_imdb['movie_link_merged'][0]"
   ]
  },
  {
   "cell_type": "code",
   "execution_count": null,
   "id": "burning-street",
   "metadata": {},
   "outputs": [],
   "source": [
    "html = requests.get(url).content\n",
    "\n",
    "sel = Selector(text = html)\n",
    "\n",
    "print( \"You have found: \", len(sel.xpath('//*')))"
   ]
  },
  {
   "cell_type": "markdown",
   "id": "massive-farmer",
   "metadata": {},
   "source": [
    ">\n",
    ">\n",
    "__İlk dört oyuncu için kopyaladığımız Xpath'ler:__\n",
    "\n",
    "- //*[@id=\"__next\"]/main/div/section[1]/div/section/div/div[1]/section[4]/div[2]/div[2]/div[1]/div[2]/a\n",
    "\n",
    "- //*[@id=\"__next\"]/main/div/section[1]/div/section/div/div[1]/section[4]/div[2]/div[2]/div[2]/div[2]/a\n",
    "\n",
    "- //*[@id=\"__next\"]/main/div/section[1]/div/section/div/div[1]/section[4]/div[2]/div[2]/div[3]/div[2]/a\n",
    "\n",
    "- //*[@id=\"__next\"]/main/div/section[1]/div/section/div/div[1]/section[4]/div[2]/div[2]/div[4]/div[2]/a\n"
   ]
  },
  {
   "cell_type": "code",
   "execution_count": null,
   "id": "designing-arkansas",
   "metadata": {},
   "outputs": [],
   "source": [
    "xpath_for_movieplayers ='//*[@id=\"__next\"]/main/div/section[1]/div/section/div/div[1]/section[4]/div[2]/div[2]/div/div[2]/a/text()'\n",
    "movie_players_first_movie = sel.xpath(xpath_for_movieplayers).extract()"
   ]
  },
  {
   "cell_type": "code",
   "execution_count": null,
   "id": "interesting-daughter",
   "metadata": {},
   "outputs": [],
   "source": [
    "movie_players_first_movie"
   ]
  },
  {
   "cell_type": "markdown",
   "id": "231a2aae-4189-4527-8e72-bc517698f424",
   "metadata": {},
   "source": [
    "Şimdi bunu 250 URL'yi tarayarak yapın. Bulduğunuz sonuçları ```players_list``` isimli bir listede saklayabilirsiniz."
   ]
  },
  {
   "cell_type": "code",
   "execution_count": null,
   "id": "random-stuff",
   "metadata": {},
   "outputs": [],
   "source": [
    "players_list=[]\n",
    "\n",
    "for i in range(250):\n",
    "    url = data_imdb['movie_link_merged'][i]\n",
    "    html = requests.get(url).content\n",
    "    sel = Selector(text = html)\n",
    "    movie_players = sel.xpath(xpath_for_movieplayers).extract()\n",
    "    players_list.append(movie_players)"
   ]
  },
  {
   "cell_type": "markdown",
   "id": "de906fed-5786-4585-a5ad-2339bb90932b",
   "metadata": {},
   "source": [
    "Bir üst hücredeki komut her bir link için döngüyü en baştan başlatıyor, bu da ciddi bir zaman kaybı demek. Bunun için şimdilik sadece ilk 5 filme bakabiliriz.\n",
    "\n",
    "Çoklu sayfalarda bu işlemi yaparken zamandan tasarruf etmek için spider'ı kullanmalısınız."
   ]
  },
  {
   "cell_type": "code",
   "execution_count": null,
   "id": "555d7348-9652-4b99-a8c3-b1805fac599e",
   "metadata": {},
   "outputs": [],
   "source": [
    "players_list=[]\n",
    "\n",
    "for i in range(3):\n",
    "    url = data_imdb['movie_link_merged'][i]\n",
    "    html = requests.get(url).content\n",
    "    sel = Selector(text = html)\n",
    "    movie_players = sel.xpath(xpath_for_movieplayers).extract()\n",
    "    players_list.append(movie_players)"
   ]
  },
  {
   "cell_type": "code",
   "execution_count": null,
   "id": "e10fc73b-97a8-45ef-8cf6-2d6066f5b6ca",
   "metadata": {},
   "outputs": [],
   "source": [
    "players_list"
   ]
  }
 ],
 "metadata": {
  "kernelspec": {
   "display_name": "Python 3 (ipykernel)",
   "language": "python",
   "name": "python3"
  },
  "language_info": {
   "codemirror_mode": {
    "name": "ipython",
    "version": 3
   },
   "file_extension": ".py",
   "mimetype": "text/x-python",
   "name": "python",
   "nbconvert_exporter": "python",
   "pygments_lexer": "ipython3",
   "version": "3.8.8"
  }
 },
 "nbformat": 4,
 "nbformat_minor": 5
}
