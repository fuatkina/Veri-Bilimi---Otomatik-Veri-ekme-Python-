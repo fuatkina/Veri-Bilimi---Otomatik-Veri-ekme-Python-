{
 "cells": [
  {
   "cell_type": "markdown",
   "id": "adae7856",
   "metadata": {},
   "source": [
    "-------------------------------------------------- -------------------------------------------------- ---------------------------\n",
    "### Nasıl ve nereden başlamalı\n",
    "\n",
    "\n",
    "##### Social ComQuant Projesi adına N. Gizem Bacaksızlar Turbiç'e teşekkürler\n",
    "-------------------------------------------------- -------------------------------------------------- ---------------------------\n",
    "Bu not defteri, Python ile çalışma ortamımızı nasıl kuracağımızla ilgilidir.\n",
    "İçerik: Jupyter Notebooks, Anaconda ve Google Colab"
   ]
  },
  {
   "cell_type": "markdown",
   "id": "3cd4ea4a",
   "metadata": {},
   "source": [
    "# 1. Yazılım Kurulumu\n",
    "\n",
    "En yeni Python sürümüyle (şu anda 3.9) çalışacağız. Python'ın farklı sürümlerine buradan ulaşabilirsiniz: https://www.python.org/downloads/\n",
    "\n",
    "# 1.1. Python'u yerel bilgisayarınıza indirin.\n",
    "\n",
    "Python'u doğrudan bilgisayarınıza yükleyebilirsiniz.\n",
    "\n",
    "- Yüklemek için Python sürümünü seçin.\n",
    "\n",
    "- Python Executable Installer'ı indirin ve çalıştırın.\n",
    "\n",
    "- **Windows** kullanıcıları için: Python'u PATH'de kullanılabilir hale getirme adımını kaçırmayın. Komut isteminden pip veya python çağıramıyorsanız, öncelikle bilgisayarınızın PATH değişkenine Python ve pip eklemeniz gerekebilir.\n",
    "    - Bu nasıl yapılır:\n",
    "        - Bilgisayarınızda python.exe ve pip.exe'nin bulunduğu dosyaya gidin ve klasör yolunu kopyalayın: C:\\Users\\kullanıcı adınız\\AppData\\Local\\Programs\\Python\\Python310\\Scripts\n",
    "        - Ardından, Denetim Masası -> Sistem ve Güvenlik -> Sistem -> Gelişmiş Sistem Ayarları -> Ortam Değişkenleri'ne giderek ortam değişkenlerini düzenleyin.\n",
    "       - \"Yol\" değişkenine tıklayın ve ardından \"Düzenle\" -> \"Yeni\" seçeneğine tıklayın ve klasör yolunuzu yapıştırın.\n",
    "       \n",
    "- **Mac** kullanıcıları için: Apple tarafından sağlanan Python yapısı, sırasıyla /System/Library/Frameworks/Python.framework ve /usr/bin/python'a yüklenir. Apple tarafından kontrol edildikleri ve Apple veya üçüncü taraf yazılımlar tarafından kullanıldığı için bunları asla değiştirmemeli veya silmemelisiniz.\n",
    "    - Daha yeni bir Python sürümü kurmayı seçerseniz, bilgisayarınızda birden fazla Python kurulumuna sahip olacaksınız, bu nedenle yollarınızın ve kullanımlarınızın yapmak istediğiniz şeyle tutarlı olması önemli olacaktır. Daha fazla bilgiyi [buradan](https://docs.python.org/3/using/mac.html) bulabilirsiniz.\n",
    "\n",
    "## 1.2. Anaconda'yı Python dağıtıcısı olarak kullanın.\n",
    "\n",
    "\n",
    "Alternatif olarak, Anaconda gibi bir Python dağıtımı kullanabilirsiniz: https://www.anaconda.com/products/individual.\n",
    "\n",
    "Anaconda, Python tarafından desteklenen bir açık veri bilimi platformudur. Zaten yüklü olan Python için birçok kod kitaplığı/paketiyle birlikte gelir. Ayrıca Jupyter Notebooks ile donatılmış olarak gelir.\n",
    "\n",
    "Anaconda'nın genel kurulumunu anlatan güzel bir video:\n",
    "https://www.youtube.com/watch?v=YJC6ldI3hWk\n",
    "\n",
    "Ek Yükleyici Edinmeye ihtiyacınız varsa, [burayı](https://www.anaconda.com/products/individual?modal=commercial#Downloads) ziyaret edin ve ihtiyacınız olan yükleyiciyi indirin.\n",
    "\n",
    "Anaconda arşivi için lütfen şu adresi ziyaret edin: https://repo.anaconda.com/archive/\n",
    "\n",
    "\n",
    "## 1.3. Google Colab'ı kullanın.\n",
    "\n",
    "Herhangi bir sebeple yerel bilgisayarınızda Python'a sahip olamıyorsanız, Google Colab (Colaboratory) sizin için başka bir seçenek olabilir. Kurulum gerektirmeyen ve tamamen Bulut üzerinde çalışan (yazma, çalıştırma ve kod paylaşma) ücretsiz bir Jupyter notebook ortamıdır. Çalıştırmak için yalnızca bir Google hesabınızın olması gerekir. Ancak Python'u birinci veya ikinci yolla kurmanız uzun vadeli kullanım için tavsiye edilir.\n",
    "\n",
    "Google Colab hakkında daha fazla bilgiyi buradan bulabilirsiniz:\n",
    "https://colab.research.google.com/"
   ]
  },
  {
   "cell_type": "markdown",
   "id": "e6de5b61",
   "metadata": {},
   "source": [
    "# 2. Jupyter not defterleri nasıl kullanılır\n",
    "\n",
    "Jupyter notebook'ları doğrudan (Windows'ta başlat menüsündeki simge aracılığıyla; Linux'ta terminalde jupyter-notebook yazarak) veya Anaconda Navigator aracılığıyla başlatabilirsiniz.\n",
    "\n",
    " \n",
    "Jupyter not defterlerinin nasıl başlatılacağını/kullanılacağını gösteren faydalı bir video:\n",
    "https://www.youtube.com/watch?v=HW29067qVWk\n",
    " \n",
    "Sorun giderme kaynakları şu adreste bulunabilir:\n",
    "https://docs.continuum.io/anaconda/install\n",
    "\n",
    "Jupyter/IPython Notebook Hızlı Başlangıç Kılavuzu burada:\n",
    "http://jupyter-notebook-beginner-guide.readthedocs.io/en/latest/"
   ]
  },
  {
   "cell_type": "markdown",
   "id": "d09370b8",
   "metadata": {},
   "source": [
    "# 3. Python'un temelleri\n",
    "\n",
    "Jüpiter'i bilgisayarınıza kurduktan sonra, kendinizi ilgili ortama alıştırın. \"Hücreyi çalıştır\" düğmesine (soldan sekizinci kare) tıklanarak kod çalıştırılır.\n",
    "\n",
    "Birçok harika klavye kısayolu var. Hile sayfası/klavye kısayollarını görmek için 'H' tuşuna basın.\n",
    "\n",
    "İyi bir giriş [buradaki bu video](https://www.youtube.com/watch?v=HW29067qVWk)."
   ]
  },
  {
   "cell_type": "markdown",
   "id": "b176b0d9",
   "metadata": {},
   "source": [
    "# 4. Import\n",
    "\n",
    "Python'ın ve özellikle yüklemeniz gereken Anaconda dağıtıcısının en önemli özelliği, 'import' komutuyla mevcut belleğinize ek modüller, paketler veya kitaplıklar çağırabilme yeteneğidir."
   ]
  },
  {
   "cell_type": "code",
   "execution_count": null,
   "id": "57efe1ca-ed1f-41dd-8ee3-f68bc2956e5c",
   "metadata": {},
   "outputs": [],
   "source": [
    "# Hücreyi çalıştırın, kısayol CTRL + Enter\n",
    "math.log(36)"
   ]
  },
  {
   "cell_type": "markdown",
   "id": "50e8d5e1-d153-447b-94dc-fcf8c8cbee93",
   "metadata": {},
   "source": [
    "İlgili hatanın sebebi henüz \"math\" modülünün aktive olan belleğe çağırılmamış olmasıdır. Önce \"math\" modülünü çağıralım, ardından tekrar deneyelim."
   ]
  },
  {
   "cell_type": "code",
   "execution_count": null,
   "id": "843b5b54",
   "metadata": {},
   "outputs": [],
   "source": [
    "import math"
   ]
  },
  {
   "cell_type": "code",
   "execution_count": null,
   "id": "89c7c899",
   "metadata": {},
   "outputs": [],
   "source": [
    "math.log(36)"
   ]
  },
  {
   "cell_type": "code",
   "execution_count": null,
   "id": "7de7c558",
   "metadata": {},
   "outputs": [],
   "source": [
    "math.cos(math.pi)"
   ]
  },
  {
   "cell_type": "code",
   "execution_count": null,
   "id": "b91ecca9",
   "metadata": {},
   "outputs": [],
   "source": [
    "# Kitaplık adı daha uzun olduğunda, kitaplığın adını kısaltmak isteyebilirsiniz, örneğin:\n",
    "import math as mt"
   ]
  },
  {
   "cell_type": "code",
   "execution_count": null,
   "id": "0039441a",
   "metadata": {},
   "outputs": [],
   "source": [
    "mt.log(36)"
   ]
  },
  {
   "cell_type": "code",
   "execution_count": null,
   "id": "f5b06f89",
   "metadata": {},
   "outputs": [],
   "source": [
    "# Bununla birlikte, bir modülün belirli bir fonksiyonunu da içe aktarabilirsiniz.\n",
    "from statistics import mean\n",
    "mean([22,45,30,56])"
   ]
  },
  {
   "cell_type": "markdown",
   "id": "494cc4d9",
   "metadata": {},
   "source": [
    "# 4. Kitaplıklar/Paketler\n",
    "\n",
    "Artık içe aktarmanın temellerini bildiğinize göre, birden fazla kitaplık, paket kullanma konusunda kendimizi rahat ettirmelisiniz.\n",
    "\n",
    "Paketleri kurmak için, yazılım paketlerini kurmak ve yönetmek için Python'da bir paket yönetim sistemi (paket yöneticisi) olan **pip**'e aşina olmanız gerekir.\n",
    "\n",
    "Her şeyden önce, kullanıcının bir işletim sistemi veya program için metin tabanlı komut yazıp çalıştırabileceği bir arayüz (panel) olan komut isteminizi açmanız gerekir.\n",
    "\n",
    "- Bunu bulmak için **Windows** kullanıcıları Windows tuşuna basıp \"cmd\"yi aramalı ve **Mac** kullanıcıları \"terminal\"i aramalı.\n",
    "- Ardından, çalışmak istediğiniz paketleri kurabilmek için komut isteminize (cmd veya terminal) aşağıdaki komutları yazın. Örneğin, Pandas, Matplotlib, BeautifuSoup ve NLTK kurs boyunca kullanacağımız paketlerden bazıları.\n",
    "        pip install pandas\n",
    "        pip install matplotlib\n",
    "        pip install beautifulsoup4\n",
    "        pip install nltk\n",
    "\n",
    "Not 1: Python'un eski sürümleriyle uyumlu belirli kitaplıkları çalıştırmanız gerekiyorsa, o zaman belirli Python sürümünü https://www.python.org/downloads/ adresinden bulup yüklemeniz gerekir.\n",
    "\n",
    "Not 2: Paketleri veya yazılımları kurarken herhangi bir hatayla karşılaşırsanız, unutmayın ki sadece siz değilsiniz. Üzülmeyin! :) Önce sorununuzu araştırarak sorun gidermeye çalışın. [Yığın Taşması](https://stackoverflow.com/) ziyaret edilecek ilk web sitesi olmalıdır! Geliştiricilerin öğrenmesi, programlama bilgilerini paylaşması ve kariyerlerini oluşturması için en büyük, en güvenilir çevrimiçi topluluk ve ağdır. Hala sorularınız varsa veya nasıl soru sorulacağını tartışmak istiyorsanız, bana yazmaktan çekinmeyin."
   ]
  }
 ],
 "metadata": {
  "kernelspec": {
   "display_name": "Python 3 (ipykernel)",
   "language": "python",
   "name": "python3"
  },
  "language_info": {
   "codemirror_mode": {
    "name": "ipython",
    "version": 3
   },
   "file_extension": ".py",
   "mimetype": "text/x-python",
   "name": "python",
   "nbconvert_exporter": "python",
   "pygments_lexer": "ipython3",
   "version": "3.8.8"
  },
  "toc-autonumbering": false,
  "toc-showcode": false,
  "toc-showmarkdowntxt": true
 },
 "nbformat": 4,
 "nbformat_minor": 5
}
