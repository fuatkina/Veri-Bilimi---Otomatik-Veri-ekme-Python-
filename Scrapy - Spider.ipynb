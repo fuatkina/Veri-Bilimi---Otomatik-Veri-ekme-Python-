{
 "cells": [
  {
   "cell_type": "markdown",
   "id": "mature-ozone",
   "metadata": {},
   "source": [
    "## Spider"
   ]
  },
  {
   "cell_type": "code",
   "execution_count": null,
   "id": "short-phrase",
   "metadata": {},
   "outputs": [],
   "source": [
    "import scrapy\n",
    "from scrapy.crawler import CrawlerProcess\n",
    "\n",
    "class IMDB_Spider(scrapy.Spider):\n",
    "    name = \"IMDB_Spider\"\n",
    "  # start_requests method\n",
    "    def start_requests(self):\n",
    "        yield scrapy.Request(url = 'https://m.imdb.com/chart/top', callback = self.parse_front)\n",
    "\n",
    "    def parse_front(self, response):\n",
    "        movie_names = response.xpath('//h4/text()').extract()\n",
    "        for item in movie_names:\n",
    "            cleaned_string = item.strip()\n",
    "            if cleaned_string != '':\n",
    "                movie_list.append(cleaned_string)\n",
    "\n",
    "movie_list = []\n",
    "\n",
    "process = CrawlerProcess()\n",
    "process.crawl(IMDB_Spider)\n",
    "process.start()\n",
    "\n",
    "print(movie_list)"
   ]
  },
  {
   "cell_type": "code",
   "execution_count": null,
   "id": "running-photograph",
   "metadata": {},
   "outputs": [],
   "source": [
    "len(movie_list)"
   ]
  },
  {
   "cell_type": "code",
   "execution_count": null,
   "id": "iraqi-executive",
   "metadata": {},
   "outputs": [],
   "source": [
    "import scrapy\n",
    "from scrapy.crawler import CrawlerProcess\n",
    "\n",
    "class IMDB_Spider(scrapy.Spider):\n",
    "    name = \"IMDB_Spider\"\n",
    "\n",
    "    def start_requests(self):\n",
    "        yield scrapy.Request(url = 'https://m.imdb.com/chart/top', callback = self.parse_front)\n",
    "\n",
    "    def parse_front(self, response):\n",
    "        \n",
    "        movie_names = response.xpath('//h4/text()').extract()\n",
    "        for item in movie_names:\n",
    "            cleaned_string = item.strip()\n",
    "            if cleaned_string != '':\n",
    "                movie_list.append(cleaned_string)\n",
    "        \n",
    "        movie_years = response.xpath('//h4/span[2]/text()').extract()\n",
    "        for item in movie_years:\n",
    "                years.append(item)\n",
    "\n",
    "        movie_links = response.xpath('//*[@id=\"chart-content\"]/div/div/div/a/@href').extract()\n",
    "        for item in movie_links:\n",
    "            first_part_url = 'https://m.imdb.com'\n",
    "            last_part_url = '?pf_rd_m=A2FGELUUNOQJNL&pf_rd_p=df09bbba-7a44-41c0-bc85-426ba05a5574&pf_rd_r=R9N3Q0473JZET8YH4S2A&pf_rd_s=top-1&pf_rd_t=15506&pf_rd_i=top&ref_=m_chttp_tt_1'\n",
    "            url = first_part_url + item + last_part_url\n",
    "            links.append(url)\n",
    "\n",
    "\n",
    "movie_list = []\n",
    "years = []\n",
    "links = []\n",
    "\n",
    "process = CrawlerProcess()\n",
    "process.crawl(IMDB_Spider)\n",
    "process.start()"
   ]
  },
  {
   "cell_type": "code",
   "execution_count": null,
   "id": "occasional-illness",
   "metadata": {},
   "outputs": [],
   "source": [
    "print(links)"
   ]
  },
  {
   "cell_type": "code",
   "execution_count": null,
   "id": "final-bikini",
   "metadata": {},
   "outputs": [],
   "source": [
    "import scrapy\n",
    "from scrapy.crawler import CrawlerProcess\n",
    "\n",
    "class IMDB_Spider(scrapy.Spider):\n",
    "    name = \"IMDB_Spider\"\n",
    "\n",
    "    def start_requests(self):\n",
    "        yield scrapy.Request(url = 'https://m.imdb.com/chart/top', callback = self.parse_front)\n",
    "\n",
    "    def parse_front(self, response):\n",
    "        \n",
    "        movie_names = response.xpath('//h4/text()').extract()\n",
    "        for item in movie_names:\n",
    "            cleaned_string = item.strip()\n",
    "            if cleaned_string != '':\n",
    "                movie_list.append(cleaned_string)\n",
    "        \n",
    "        movie_years = response.xpath('//h4/span[2]/text()').extract()\n",
    "        for item in movie_years:\n",
    "                years.append(item)\n",
    "\n",
    "        movie_links = response.xpath('//*[@id=\"chart-content\"]/div/div/div/a/@href').extract()\n",
    "        for item in movie_links:\n",
    "            first_part_url = 'https://m.imdb.com'\n",
    "            last_part_url = '?pf_rd_m=A2FGELUUNOQJNL&pf_rd_p=df09bbba-7a44-41c0-bc85-426ba05a5574&pf_rd_r=R9N3Q0473JZET8YH4S2A&pf_rd_s=top-1&pf_rd_t=15506&pf_rd_i=top&ref_=m_chttp_tt_1'\n",
    "            url = first_part_url + item + last_part_url\n",
    "            links.append(url)\n",
    "            yield response.follow(url = url,  callback = self.parse_pages)\n",
    "            \n",
    "    def parse_pages(self, response):\n",
    "        movie_players = response.xpath('//*[@id=\"__next\"]/main/div/section[1]/div/section/div/div[1]/section[4]/div[2]/div[2]/div/div[2]/a/text()').extract()\n",
    "        players_list.append(movie_players)\n",
    "\n",
    "\n",
    "movie_list = []\n",
    "years = []\n",
    "links = []\n",
    "players_list = []\n",
    "\n",
    "process = CrawlerProcess()\n",
    "process.crawl(IMDB_Spider)\n",
    "process.start()"
   ]
  },
  {
   "cell_type": "code",
   "execution_count": null,
   "id": "powered-remove",
   "metadata": {},
   "outputs": [],
   "source": [
    "print(players_list)"
   ]
  },
  {
   "cell_type": "code",
   "execution_count": null,
   "id": "square-browse",
   "metadata": {},
   "outputs": [],
   "source": [
    "import pandas as pd\n",
    "\n",
    "dictimdb = {'movie name':movie_list, 'year':years, 'link':links, 'player_list': players_list}\n",
    "data_imdb = pd.DataFrame(dictimdb)"
   ]
  },
  {
   "cell_type": "code",
   "execution_count": null,
   "id": "worth-simple",
   "metadata": {},
   "outputs": [],
   "source": [
    "data_imdb"
   ]
  },
  {
   "cell_type": "code",
   "execution_count": null,
   "id": "alone-stanford",
   "metadata": {},
   "outputs": [],
   "source": [
    "data_imdb['player_list'][56]"
   ]
  }
 ],
 "metadata": {
  "kernelspec": {
   "display_name": "Python 3 (ipykernel)",
   "language": "python",
   "name": "python3"
  },
  "language_info": {
   "codemirror_mode": {
    "name": "ipython",
    "version": 3
   },
   "file_extension": ".py",
   "mimetype": "text/x-python",
   "name": "python",
   "nbconvert_exporter": "python",
   "pygments_lexer": "ipython3",
   "version": "3.8.8"
  }
 },
 "nbformat": 4,
 "nbformat_minor": 5
}
