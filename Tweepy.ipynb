{
 "cells": [
  {
   "cell_type": "markdown",
   "id": "6cac1782-ddd2-4781-b6ea-680c6977b710",
   "metadata": {},
   "source": [
    "## Tweepy"
   ]
  },
  {
   "cell_type": "markdown",
   "id": "02ab11b3-36dd-4703-93bb-3b26ef4a7ed8",
   "metadata": {},
   "source": [
    "Daha önce yapmadıysanız önce ```pip install``` komutunu kullanarak kütüphaneyi indirin."
   ]
  },
  {
   "cell_type": "code",
   "execution_count": null,
   "id": "coordinated-bobby",
   "metadata": {},
   "outputs": [],
   "source": [
    "pip install tweepy"
   ]
  },
  {
   "cell_type": "code",
   "execution_count": null,
   "id": "neural-comedy",
   "metadata": {},
   "outputs": [],
   "source": [
    "# tweepy kütüphanesini çağırın\n",
    "import tweepy as tw\n",
    "# Twitter API key ve API secret bilgilerini tanımlayın\n",
    "my_api_key = \"MY_API_KEY\"\n",
    "my_api_secret = \"MY_API_SECRET\"\n",
    "# kimlik doğrulama\n",
    "auth = tw.OAuthHandler(my_api_key, my_api_secret)\n",
    "api = tw.API(auth, wait_on_rate_limit=True)"
   ]
  },
  {
   "cell_type": "markdown",
   "id": "fc2a933d-6f5f-45ef-8b46-7db852bd6319",
   "metadata": {},
   "source": [
    "Bir arama sorgusu (search query) atayalım."
   ]
  },
  {
   "cell_type": "code",
   "execution_count": null,
   "id": "living-communication",
   "metadata": {},
   "outputs": [],
   "source": [
    "search_query = \"computational social science -filter:retweets\""
   ]
  },
  {
   "cell_type": "markdown",
   "id": "atomic-albuquerque",
   "metadata": {},
   "source": [
    "Bu sorguyu istediğimiz gibi değiştirebiliriz. Yukardaki örnekte filter ifadesini kullanarak retweet edilmiş twitleri de içermek istediğimizi belirtmiş oluyoruz. Arama sorgusunu nasıl modeifiye edebileceğinize şuradan bakabilirsiniz: \n",
    "https://developer.twitter.com/en/docs/twitter-api/v1/tweets/search/guides/standard-operators"
   ]
  },
  {
   "cell_type": "markdown",
   "id": "8149328f-8dbe-41c1-8fdf-9592b29873a7",
   "metadata": {},
   "source": [
    "Şimdi belli arama özellikleri atayarak twitleri çağırın:"
   ]
  },
  {
   "cell_type": "code",
   "execution_count": null,
   "id": "478fa622",
   "metadata": {},
   "outputs": [],
   "source": [
    "tweets = api.search_tweets(q = search_query, lang = \"en\", count = 1000) # count maksimum rakam, genelde daha az çağırıyor"
   ]
  },
  {
   "cell_type": "markdown",
   "id": "a3a8abec-e564-421b-af06-21429ecdadce",
   "metadata": {},
   "source": [
    "Elimizdeki obje neye benziyor?"
   ]
  },
  {
   "cell_type": "code",
   "execution_count": null,
   "id": "ac3aa335",
   "metadata": {},
   "outputs": [],
   "source": [
    "type(tweets)"
   ]
  },
  {
   "cell_type": "markdown",
   "id": "bb8c252a-3815-4504-81e0-0c94f1a7c8b2",
   "metadata": {},
   "source": [
    "Elimizde kaç twit var?"
   ]
  },
  {
   "cell_type": "code",
   "execution_count": null,
   "id": "82ba8771",
   "metadata": {
    "scrolled": true
   },
   "outputs": [],
   "source": [
    "len(tweets)"
   ]
  },
  {
   "cell_type": "code",
   "execution_count": null,
   "id": "b1b4e762",
   "metadata": {},
   "outputs": [],
   "source": [
    "tweets"
   ]
  },
  {
   "cell_type": "markdown",
   "id": "1b6a0d1f",
   "metadata": {},
   "source": [
    "Api objesinin özellikleri: https://docs.tweepy.org/en/stable/api.html"
   ]
  },
  {
   "cell_type": "markdown",
   "id": "1b6fefb4-63f9-4d42-ab1a-e040f7f6695a",
   "metadata": {},
   "source": [
    "Twitleri pandas dataframe olarak görüntülemek ve saklamak daha kullanışlı olabilir."
   ]
  },
  {
   "cell_type": "code",
   "execution_count": null,
   "id": "b79b8c82",
   "metadata": {},
   "outputs": [],
   "source": [
    "import pandas as pd\n",
    "\n",
    "twitter_data = pd.DataFrame()\n",
    "\n",
    "for tweet in tweets:\n",
    "    twitter_data = twitter_data.append(pd.DataFrame({'user_name': tweet.user.name, \n",
    "                                                   'user_location': tweet.user.location,\n",
    "                                                   'user_description': tweet.user.description,\n",
    "                                                   'user_verified': tweet.user.verified,\n",
    "                                                   'date': tweet.created_at,\n",
    "                                                   'text': text, \n",
    "                                                   'source': tweet.source}))\n",
    "    twitter_data = twitter_data.reset_index(drop=True)\n",
    "\n",
    "twitter_data"
   ]
  },
  {
   "cell_type": "markdown",
   "id": "6e16dfe6",
   "metadata": {},
   "source": [
    "Hashtag'leri de almak istersek:"
   ]
  },
  {
   "cell_type": "code",
   "execution_count": null,
   "id": "portuguese-keyboard",
   "metadata": {},
   "outputs": [],
   "source": [
    "import pandas as pd\n",
    "\n",
    "twitter_data = pd.DataFrame()\n",
    "\n",
    "for tweet in tweets:\n",
    "    hashtags = []\n",
    "    for hashtag in tweet.entities[\"hashtags\"]:\n",
    "        hashtags.append(hashtag[\"text\"])\n",
    "    twitter_data = twitter_data.append(pd.DataFrame({'user_name': tweet.user.name, \n",
    "                                                   'user_location': tweet.user.location,\n",
    "                                                   'user_description': tweet.user.description,\n",
    "                                                   'user_verified': tweet.user.verified,\n",
    "                                                   'date': tweet.created_at,\n",
    "                                                   'text': text, \n",
    "                                                   'hashtags': [hashtags if hashtags else None],\n",
    "                                                   'source': tweet.source}))\n",
    "    twitter_data = twitter_data.reset_index(drop=True)\n",
    "\n",
    "twitter_data"
   ]
  },
  {
   "cell_type": "markdown",
   "id": "8a7a71fc-0445-499a-81a9-5a943eded63e",
   "metadata": {},
   "source": [
    "Twitlerin tamamını görmek için sütun genişliğini değiştirebiliriz."
   ]
  },
  {
   "cell_type": "code",
   "execution_count": null,
   "id": "expressed-trunk",
   "metadata": {},
   "outputs": [],
   "source": [
    "pd.set_option(\"display.max_colwidth\", -1)\n",
    "\n",
    "twitter_data"
   ]
  }
 ],
 "metadata": {
  "kernelspec": {
   "display_name": "Python 3 (ipykernel)",
   "language": "python",
   "name": "python3"
  },
  "language_info": {
   "codemirror_mode": {
    "name": "ipython",
    "version": 3
   },
   "file_extension": ".py",
   "mimetype": "text/x-python",
   "name": "python",
   "nbconvert_exporter": "python",
   "pygments_lexer": "ipython3",
   "version": "3.8.8"
  }
 },
 "nbformat": 4,
 "nbformat_minor": 5
}
