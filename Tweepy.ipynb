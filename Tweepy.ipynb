{
 "cells": [
  {
   "cell_type": "markdown",
   "id": "6cac1782-ddd2-4781-b6ea-680c6977b710",
   "metadata": {},
   "source": [
    "## Tweepy"
   ]
  },
  {
   "cell_type": "markdown",
   "id": "02ab11b3-36dd-4703-93bb-3b26ef4a7ed8",
   "metadata": {},
   "source": [
    "Daha önce yapmadıysanız önce ```pip install``` komutunu kullanarak kütüphaneyi indirin."
   ]
  },
  {
   "cell_type": "code",
   "execution_count": null,
   "id": "coordinated-bobby",
   "metadata": {},
   "outputs": [],
   "source": [
    "pip install tweepy"
   ]
  },
  {
   "cell_type": "code",
   "execution_count": null,
   "id": "neural-comedy",
   "metadata": {},
   "outputs": [],
   "source": [
    "# tweepy kütüphanesini çağırın\n",
    "import tweepy as tw\n",
    "# Twitter API key ve API secret bilgilerini tanımlayın\n",
    "my_api_key = \"MY_API_KEY\"\n",
    "my_api_secret = \"MY_API_SECRET\"\n",
    "# kimlik doğrulama\n",
    "auth = tw.OAuthHandler(my_api_key, my_api_secret)\n",
    "api = tw.API(auth, wait_on_rate_limit=True)"
   ]
  },
  {
   "cell_type": "markdown",
   "id": "fc2a933d-6f5f-45ef-8b46-7db852bd6319",
   "metadata": {},
   "source": [
    "Bir arama sorgusu (search query) atayalım."
   ]
  },
  {
   "cell_type": "code",
   "execution_count": null,
   "id": "living-communication",
   "metadata": {},
   "outputs": [],
   "source": [
    "search_query = \"computational social science -filter:retweets\""
   ]
  },
  {
   "cell_type": "markdown",
   "id": "atomic-albuquerque",
   "metadata": {},
   "source": [
    "Bu sorguyu istediğimiz gibi değiştirebiliriz. Yukardaki örnekte filter ifadesini kullanarak retweet edilmiş twitleri de içermek istediğimizi belirtmiş oluyoruz. Arama sorgusunu nasıl modeifiye edebileceğinize şuradan bakabilirsiniz: \n",
    "https://developer.twitter.com/en/docs/twitter-api/v1/tweets/search/guides/standard-operators"
   ]
  },
  {
   "cell_type": "markdown",
   "id": "8149328f-8dbe-41c1-8fdf-9592b29873a7",
   "metadata": {},
   "source": [
    "Şimdi belli arama özellikleri atayarak twitleri çağırın:"
   ]
  },
  {
   "cell_type": "code",
   "execution_count": null,
   "id": "478fa622",
   "metadata": {},
   "outputs": [],
   "source": [
    "tweets = api.search_tweets(q = search_query, lang = \"en\", count = 1000) # count sayfa başına maksimum rakam, genelde daha az çağırıyor"
   ]
  },
  {
   "cell_type": "markdown",
   "id": "a3a8abec-e564-421b-af06-21429ecdadce",
   "metadata": {},
   "source": [
    "Elimizdeki obje neye benziyor?"
   ]
  },
  {
   "cell_type": "code",
   "execution_count": null,
   "id": "ac3aa335",
   "metadata": {},
   "outputs": [],
   "source": [
    "type(tweets)"
   ]
  },
  {
   "cell_type": "markdown",
   "id": "bb8c252a-3815-4504-81e0-0c94f1a7c8b2",
   "metadata": {},
   "source": [
    "Elimizde kaç twit var?"
   ]
  },
  {
   "cell_type": "code",
   "execution_count": null,
   "id": "82ba8771",
   "metadata": {
    "scrolled": true
   },
   "outputs": [],
   "source": [
    "len(tweets)"
   ]
  },
  {
   "cell_type": "code",
   "execution_count": null,
   "id": "b1b4e762",
   "metadata": {},
   "outputs": [],
   "source": [
    "tweets"
   ]
  },
  {
   "cell_type": "markdown",
   "id": "1b6a0d1f",
   "metadata": {},
   "source": [
    "Api objesinin özellikleri: https://docs.tweepy.org/en/stable/api.html"
   ]
  },
  {
   "cell_type": "markdown",
   "id": "1b6fefb4-63f9-4d42-ab1a-e040f7f6695a",
   "metadata": {},
   "source": [
    "Twitleri pandas dataframe olarak görüntülemek ve saklamak daha kullanışlı olabilir."
   ]
  },
  {
   "cell_type": "code",
   "execution_count": null,
   "id": "b79b8c82",
   "metadata": {},
   "outputs": [],
   "source": [
    "description = []\n",
    "\n",
    "for i in range(len(tweets)):\n",
    "    description.append(tweets[i].user.description)\n",
    "    \n",
    "description"
   ]
  },
  {
   "cell_type": "code",
   "execution_count": null,
   "id": "26ab9d45-e632-4ce5-a897-ddbdc99c3492",
   "metadata": {},
   "outputs": [],
   "source": [
    "user_name = []\n",
    "user_location = []\n",
    "user_description = []\n",
    "user_verified = []\n",
    "date = []\n",
    "text = []\n",
    "source = []\n",
    "\n",
    "for i in range(len(tweets)):\n",
    "    user_name.append(tweets[i].user.name)\n",
    "    user_location.append(tweets[i].user.location)\n",
    "    user_description.append(tweets[i].user.description)\n",
    "    user_verified.append(tweets[i].user.verified)\n",
    "    date.append(tweets[i].created_at)\n",
    "    text.append(tweets[i].text)\n",
    "    source.append(tweets[i].source)"
   ]
  },
  {
   "cell_type": "code",
   "execution_count": null,
   "id": "2c1b0cb3-bcd2-4553-8b90-746000413c75",
   "metadata": {},
   "outputs": [],
   "source": [
    "print(len(source),len(text))"
   ]
  },
  {
   "cell_type": "code",
   "execution_count": null,
   "id": "22f74d08-b4c7-42e3-895e-3ea15d8333cc",
   "metadata": {},
   "outputs": [],
   "source": [
    "dict_tweets = { 'user_name': user_name, \n",
    "                'user_location': user_location,\n",
    "                'user_description': user_description,\n",
    "                'user_verified': user_verified,\n",
    "                'date': date,\n",
    "                'text': text, \n",
    "                'source': source}"
   ]
  },
  {
   "cell_type": "code",
   "execution_count": null,
   "id": "31adcff7-691f-4a59-bfd7-3edc039377a1",
   "metadata": {},
   "outputs": [],
   "source": [
    "import pandas as pd\n",
    "\n",
    "twitter_data = pd.DataFrame(dict_tweets)"
   ]
  },
  {
   "cell_type": "markdown",
   "id": "6e16dfe6",
   "metadata": {},
   "source": [
    "Hashtag'leri de almak istersek:"
   ]
  },
  {
   "cell_type": "code",
   "execution_count": null,
   "id": "6f1cdb01-d494-45ca-8486-2abd6426de77",
   "metadata": {},
   "outputs": [],
   "source": [
    "user_name = []\n",
    "user_location = []\n",
    "user_description = []\n",
    "user_verified = []\n",
    "date = []\n",
    "text = []\n",
    "source = []\n",
    "all_hashtahgs = []\n",
    "\n",
    "for i in range(len(tweets)):\n",
    "    user_name.append(tweets[i].user.name)\n",
    "    user_location.append(tweets[i].user.location)\n",
    "    user_description.append(tweets[i].user.description)\n",
    "    user_verified.append(tweets[i].user.verified)\n",
    "    date.append(tweets[i].created_at)\n",
    "    text.append(tweets[i].text)\n",
    "    source.append(tweets[i].source)\n",
    "\n",
    "    hashtags = []\n",
    "\n",
    "    for j in range(len(tweets[i].entities[\"hashtags\"])):\n",
    "        hashtags.append(tweets[i].entities[\"hashtags\"][j])\n",
    "    all_hashtahgs.append(hashtags)"
   ]
  },
  {
   "cell_type": "code",
   "execution_count": null,
   "id": "5282d061-aa3a-4560-b8d9-c03cec21a1a5",
   "metadata": {},
   "outputs": [],
   "source": [
    "dict_tweets2 = { 'user_name': user_name, \n",
    "                'user_location': user_location,\n",
    "                'user_description': user_description,\n",
    "                'user_verified': user_verified,\n",
    "                'date': date,\n",
    "                'text': text, \n",
    "                'source': source,\n",
    "                'all_hashtahgs': all_hashtahgs}\n",
    "\n",
    "twitter_data2 = pd.DataFrame(dict_tweets2)\n",
    "twitter_data2"
   ]
  },
  {
   "cell_type": "markdown",
   "id": "8a7a71fc-0445-499a-81a9-5a943eded63e",
   "metadata": {},
   "source": [
    "Twitlerin tamamını görmek için sütun genişliğini değiştirebiliriz."
   ]
  },
  {
   "cell_type": "code",
   "execution_count": null,
   "id": "expressed-trunk",
   "metadata": {},
   "outputs": [],
   "source": [
    "pd.set_option(\"display.max_colwidth\", -1)\n",
    "\n",
    "twitter_data"
   ]
  }
 ],
 "metadata": {
  "kernelspec": {
   "display_name": "Python 3 (ipykernel)",
   "language": "python",
   "name": "python3"
  },
  "language_info": {
   "codemirror_mode": {
    "name": "ipython",
    "version": 3
   },
   "file_extension": ".py",
   "mimetype": "text/x-python",
   "name": "python",
   "nbconvert_exporter": "python",
   "pygments_lexer": "ipython3",
   "version": "3.8.8"
  }
 },
 "nbformat": 4,
 "nbformat_minor": 5
}
