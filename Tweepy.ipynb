{
 "cells": [
  {
   "cell_type": "code",
   "execution_count": null,
   "id": "coordinated-bobby",
   "metadata": {},
   "outputs": [],
   "source": [
    "# pip install tweepy"
   ]
  },
  {
   "cell_type": "code",
   "execution_count": null,
   "id": "neural-comedy",
   "metadata": {},
   "outputs": [],
   "source": [
    "# import tweepy\n",
    "import tweepy as tw\n",
    "# your Twitter API key and API secret\n",
    "my_api_key = \"MY_API_KEY\"\n",
    "my_api_secret = \"MY_API_SECRET\"\n",
    "# authenticate\n",
    "auth = tw.OAuthHandler(my_api_key, my_api_secret)\n",
    "api = tw.API(auth, wait_on_rate_limit=True)"
   ]
  },
  {
   "cell_type": "code",
   "execution_count": null,
   "id": "living-communication",
   "metadata": {},
   "outputs": [],
   "source": [
    "search_query = \"computational social science -filter:retweets\""
   ]
  },
  {
   "cell_type": "markdown",
   "id": "atomic-albuquerque",
   "metadata": {},
   "source": [
    "Aramak için kullandığımız search_query'yi modifiye edebiliriz: \n",
    "https://developer.twitter.com/en/docs/twitter-api/v1/tweets/search/guides/standard-operators"
   ]
  },
  {
   "cell_type": "code",
   "execution_count": null,
   "id": "478fa622",
   "metadata": {},
   "outputs": [],
   "source": [
    "tweets = api.search_tweets(q = search_query, lang = \"en\", count = 1000) # count is a maximum number, it often returns much less"
   ]
  },
  {
   "cell_type": "code",
   "execution_count": null,
   "id": "ac3aa335",
   "metadata": {},
   "outputs": [],
   "source": [
    "type(tweets)"
   ]
  },
  {
   "cell_type": "code",
   "execution_count": null,
   "id": "82ba8771",
   "metadata": {
    "scrolled": true
   },
   "outputs": [],
   "source": [
    "len(tweets)"
   ]
  },
  {
   "cell_type": "code",
   "execution_count": null,
   "id": "b1b4e762",
   "metadata": {},
   "outputs": [],
   "source": [
    "tweets"
   ]
  },
  {
   "cell_type": "markdown",
   "id": "1b6a0d1f",
   "metadata": {},
   "source": [
    "Api objesinin özellikleri: https://docs.tweepy.org/en/stable/api.html"
   ]
  },
  {
   "cell_type": "code",
   "execution_count": null,
   "id": "b79b8c82",
   "metadata": {},
   "outputs": [],
   "source": [
    "import pandas as pd\n",
    "\n",
    "twitter_data = pd.DataFrame()\n",
    "\n",
    "for tweet in tweets:\n",
    "    twitter_data = twitter_data.append(pd.DataFrame({'user_name': tweet.user.name, \n",
    "                                                   'user_location': tweet.user.location,\n",
    "                                                   'user_description': tweet.user.description,\n",
    "                                                   'user_verified': tweet.user.verified,\n",
    "                                                   'date': tweet.created_at,\n",
    "                                                   'text': text, \n",
    "                                                   'source': tweet.source}))\n",
    "    twitter_data = twitter_data.reset_index(drop=True)\n",
    "\n",
    "twitter_data"
   ]
  },
  {
   "cell_type": "markdown",
   "id": "6e16dfe6",
   "metadata": {},
   "source": [
    "Hashtag'leri içermek:"
   ]
  },
  {
   "cell_type": "code",
   "execution_count": null,
   "id": "portuguese-keyboard",
   "metadata": {},
   "outputs": [],
   "source": [
    "import pandas as pd\n",
    "\n",
    "twitter_data = pd.DataFrame()\n",
    "\n",
    "for tweet in tweets:\n",
    "    hashtags = []\n",
    "    for hashtag in tweet.entities[\"hashtags\"]:\n",
    "        hashtags.append(hashtag[\"text\"])\n",
    "    twitter_data = twitter_data.append(pd.DataFrame({'user_name': tweet.user.name, \n",
    "                                                   'user_location': tweet.user.location,\n",
    "                                                   'user_description': tweet.user.description,\n",
    "                                                   'user_verified': tweet.user.verified,\n",
    "                                                   'date': tweet.created_at,\n",
    "                                                   'text': text, \n",
    "                                                   'hashtags': [hashtags if hashtags else None],\n",
    "                                                   'source': tweet.source}))\n",
    "    twitter_data = twitter_data.reset_index(drop=True)\n",
    "\n",
    "twitter_data"
   ]
  },
  {
   "cell_type": "code",
   "execution_count": null,
   "id": "expressed-trunk",
   "metadata": {},
   "outputs": [],
   "source": [
    "pd.set_option(\"display.max_colwidth\", -1)\n",
    "\n",
    "twitter_data"
   ]
  },
  {
   "cell_type": "code",
   "execution_count": null,
   "id": "8894b524",
   "metadata": {},
   "outputs": [],
   "source": []
  }
 ],
 "metadata": {
  "kernelspec": {
   "display_name": "Python 3 (ipykernel)",
   "language": "python",
   "name": "python3"
  },
  "language_info": {
   "codemirror_mode": {
    "name": "ipython",
    "version": 3
   },
   "file_extension": ".py",
   "mimetype": "text/x-python",
   "name": "python",
   "nbconvert_exporter": "python",
   "pygments_lexer": "ipython3",
   "version": "3.8.8"
  }
 },
 "nbformat": 4,
 "nbformat_minor": 5
}
