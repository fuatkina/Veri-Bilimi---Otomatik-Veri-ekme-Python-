{
 "cells": [
  {
   "cell_type": "markdown",
   "metadata": {
    "id": "Nfo-V4Ho7vGG"
   },
   "source": [
    "# Python ile Bilimsel Programlamaya Giriş\n"
   ]
  },
  {
   "cell_type": "markdown",
   "metadata": {},
   "source": [
    "Vahid Rostami tarafından oluşutuldu, Social ComQuant projesi üzerinden erişildi https://socialcomquant.ku.edu.tr/,\n",
    "\n",
    "M.Fuat Kına tarafından revize edildi."
   ]
  },
  {
   "cell_type": "markdown",
   "metadata": {
    "id": "wGldcVel8kW4"
   },
   "source": [
    "```\n",
    "# Bu bölüm kod olarak biçimlendirilmiştir\n",
    "```\n",
    "\n",
    "Python modern, güçlü ve dinamik bir programlama dilidir. Öğrenmesi kolay ancak nesne yönelimli (object-oriented) programlama için çok etkili olan basit ve özlü sintakslara sahiptir. Python'da geliştirilmiş kitaplıkların tümü ücretsiz ve açık kaynaklıdır. Özellikle istatistikçiler ve bilgisayar bilimcileri tarafından geliştirilen birçok kullanışlı kitaplık, Python'u veri analizi için ideal bir programlama dili haline getiriyor.\n",
    "\n",
    "---"
   ]
  },
  {
   "cell_type": "markdown",
   "metadata": {
    "id": "ZUR5pWoMSorj"
   },
   "source": [
    "Bu tanıtım sayfası, programlamanın temel alanlarına dair size yol gösterecektir.\n",
    "Bunları sırayla gözden geçirin ve alıştırmaları çözün:\n",
    "1. **Ekrana yazdırma**\n",
    "1. **Değişkenler**\n",
    "1. **Listeler**\n",
    "1. **Kelimeler (string)**\n",
    "1. **Sözlükler**\n",
    "1. **Operatörler**\n",
    "1. **Eğer (if) ifadesi ve döngüler**\n",
    "1. **Fonksiyonlar**"
   ]
  },
  {
   "cell_type": "markdown",
   "metadata": {
    "id": "7z2H6xhlMywy"
   },
   "source": [
    "## Ekrana yazdırma"
   ]
  },
  {
   "cell_type": "markdown",
   "metadata": {
    "id": "_2lqQS9vM6kV"
   },
   "source": [
    "Python ile konuşmaya başlayalım! Python'dan ekrana bir mesaj yazdırmasını istediğimizi hayal edin. Bunu nasıl yaparız? İşte Python'a Merhaba Dünya'yı yazdırmasını söyleyen bir kod satırı!\n",
    "\n",
    "print('Merhaba Dünya')\n",
    "\n",
    "`print()` Python'a bir şey yazdırmak istediğimizi söyleyen bir işlevdir (parantezler arasına ne koyarsak çıktımız o olacaktır).\n",
    "\n",
    "Şimdi Python ortamına hızlı bir giriş yapalım. Yukarıdaki satırı favori metin düzenleyicimize yazıp çalıştırırsak Python bizim için \"Merhaba Dünya\" yazacaktır.\n"
   ]
  },
  {
   "cell_type": "code",
   "execution_count": null,
   "metadata": {
    "colab": {
     "base_uri": "https://localhost:8080/"
    },
    "id": "T9-07BiP7yep",
    "outputId": "06b277a9-601a-4425-ac5e-c68ab5be23d1",
    "tags": []
   },
   "outputs": [],
   "source": [
    "print(\"Merhaba Dünya\")"
   ]
  },
  {
   "cell_type": "markdown",
   "metadata": {
    "id": "Ty55Ig7-PFkx"
   },
   "source": [
    "Python ile bir kod yazmaya başlar başlamaz, kodumuza açıklama eklemek için yorumları kullanmamız iyi olabilir. Bir kod yazarken yorumlar çok önemli ve kullanışlıdır. Yorum satırları kare sembolü (#) ile başlar. Bu şekilde Python, çalıştırılacak satırların (kare sembolü olmayan satırlar) ve yorum satırlarının (kare sembollü satırlar) ne olduğunu bilir. Sonuç olarak, yorumları insanlarla konuşan satırlar (sizinle veya kodunuzu daha sonra okuyan kişiyle), diğer satırları ise Python ile konuşan satırlar olarak düşünebilirsiniz!"
   ]
  },
  {
   "cell_type": "code",
   "execution_count": null,
   "metadata": {
    "colab": {
     "base_uri": "https://localhost:8080/"
    },
    "id": "dnTVbCRhRBsa",
    "outputId": "21ceac25-111a-442d-b90e-3bc00738989b"
   },
   "outputs": [],
   "source": [
    "# örnek yorum, Python bu satırı görmezden gelecek\n",
    "print(\"Merhaba Dünya\")"
   ]
  },
  {
   "cell_type": "markdown",
   "metadata": {
    "id": "FQrd2YRWYFwz"
   },
   "source": [
    "## Değişkenler (Variables)\n",
    "\n",
    "\n"
   ]
  },
  {
   "cell_type": "markdown",
   "metadata": {
    "id": "3RKXjhqTYKXK"
   },
   "source": [
    "Değişkenler temel olarak bilgileri (geçici olarak) depolamak için ayrılmış bellek konumlarıdır. Bilgisayarınızın belleğine bir değer kaydetmenizi ve bu değeri daha sonra almanızı sağlarlar."
   ]
  },
  {
   "cell_type": "markdown",
   "metadata": {
    "id": "_FESOf_8Zwxx"
   },
   "source": [
    "### Değişken tanımlama: değişkenlere değer atama"
   ]
  },
  {
   "cell_type": "markdown",
   "metadata": {
    "id": "4OtCFmuCaogZ"
   },
   "source": [
    "Bir değişken tanımlamak için bir atama yaparız, bunun için eşittir ifadesini kullanıyoruz:"
   ]
  },
  {
   "cell_type": "code",
   "execution_count": null,
   "metadata": {
    "id": "OcRFK1CuYIWE",
    "tags": []
   },
   "outputs": [],
   "source": [
    "my_variable_integer = 100        # Bir tamsayı (integer) atayalım\n",
    "my_variable_float = 1000.0       # Küsüratlı bir sayı (float) atayalım\n",
    "my_variable_string = \"John\"      # Bir kelime (string) atayalım"
   ]
  },
  {
   "cell_type": "markdown",
   "metadata": {
    "id": "zQCzIVaQa07R"
   },
   "source": [
    "Eşittir işaretinin (=) sol tarafında yazılan, değişkenin adıdır. Eşittir işaretinin (=) sağ tarafında yazılan, programın anlamlandırabileceği bir ifade olmalıdır.\n",
    "Bu atama, eşitliğin matematiksel anlamından tamamen bağımsızdır. My_variable_integer <-- 100 gibi düşünebiliriz. Bu, bir değişkene bir değer atayarak bu değeri (burada 100), değişken adını verdiğiniz (burada my_variable_integer) hafıza konumuna taşıdığınız anlamına gelir."
   ]
  },
  {
   "cell_type": "markdown",
   "metadata": {
    "id": "FBcu1JFBMBnt",
    "jupyter": {
     "outputs_hidden": true
    }
   },
   "source": [
    "print(my_variable_integer)\n",
    "print(my_variable_float)\n",
    "print(my_variable_string)"
   ]
  },
  {
   "cell_type": "markdown",
   "metadata": {
    "id": "56UpQMcMc8pY"
   },
   "source": [
    "### Standart değişken sınıfları"
   ]
  },
  {
   "cell_type": "markdown",
   "metadata": {
    "id": "XhvYz7PBdJiV"
   },
   "source": [
    "Her değişken önceden tanımlanmış sınıflardan yanlızca birine ait olabilir. Bir değişkeni tanımlarken Python'a aynı zamanda bunun ne tür bir değişken olduğunu da söyleriz: bir tamsayı, bir kelime, vb. Yukarıdaki örnekte 3 tür değişken tanımladık: bir tamsayı, bir küsüratlı sayı ve bir kelime. Aşağıdaki ifadeyi çalıştırarak değişken türünü, yani hangi sınıfa ait olduklarını kontrol edebilirsiniz:"
   ]
  },
  {
   "cell_type": "code",
   "execution_count": null,
   "metadata": {
    "colab": {
     "base_uri": "https://localhost:8080/"
    },
    "id": "UiDZsWZaeJ6g",
    "outputId": "6c3d8ff2-df67-4aec-ec78-96d963f17fee",
    "tags": []
   },
   "outputs": [],
   "source": [
    "print(type(my_variable_string))"
   ]
  },
  {
   "cell_type": "markdown",
   "metadata": {
    "id": "uco5FNeYfSry"
   },
   "source": [
    "| Sınıf  | Örnek\n",
    "|------|------\n",
    "|   bool  |  True\n",
    "|   int  | 5\n",
    "|   float | 5.27836532\n",
    "|   string | 'Merhaba Dünya'\n",
    "\n"
   ]
  },
  {
   "cell_type": "markdown",
   "metadata": {
    "id": "W4Z2ziJt-Nqu"
   },
   "source": [
    "### Değişken adı"
   ]
  },
  {
   "cell_type": "markdown",
   "metadata": {
    "id": "ZvyfKBbP-2ou"
   },
   "source": [
    "Değişken adları bir harfle başlamalı ve ardından herhangi bir harf, rakam ve alt çizgi kombinasyonu gelmelidir. Python, büyük harf ve küçük harf karakterleri arasında ayrım yapar, bu nedenle “A” ve “a” aynı değişken değildir."
   ]
  },
  {
   "cell_type": "code",
   "execution_count": null,
   "metadata": {
    "colab": {
     "base_uri": "https://localhost:8080/"
    },
    "id": "ED0RePkSlXci",
    "outputId": "22b096bd-f101-43d2-ce50-c69f2610e88f"
   },
   "outputs": [],
   "source": [
    "# Örnek 1\n",
    "x = 10\n",
    "y = 12.5\n",
    "z = x*y \n",
    "print(z)"
   ]
  },
  {
   "cell_type": "code",
   "execution_count": null,
   "metadata": {},
   "outputs": [],
   "source": [
    "# Örnek 2\n",
    "number_of_students = 30\n",
    "number_of_teachers = 12\n",
    "number_of_students_and_teachers = number_of_students + number_of_teachers\n",
    "print(number_of_students_and_teachers)"
   ]
  },
  {
   "cell_type": "markdown",
   "metadata": {
    "id": "OR5zRhBcBtuD"
   },
   "source": [
    "Bir değişken için isim seçerken okunabilirlik çok önemlidir. deneyin\n",
    "\n",
    "Tavsiye: Küçük harf 'l', büyük harf 'O' ve büyük harf 'I' kullanmayın. Neden? Niye? Çünkü l ve ben birbirine ve 1 sayısına çok benziyor ve O, 0'a çok benziyor."
   ]
  },
  {
   "cell_type": "markdown",
   "metadata": {
    "id": "aEXelx4NI3-K"
   },
   "source": [
    "### Python'da önden rezerve edilmiş isimler"
   ]
  },
  {
   "cell_type": "markdown",
   "metadata": {
    "id": "b4NyHLGMI-yu"
   },
   "source": [
    "Python'daki değişken isimlerinin sonsuz olası seçenekleri arasında, Python için ayrılmış birkaç tanesi var. Bunları kullanmıyoruz!!!"
   ]
  },
  {
   "cell_type": "markdown",
   "metadata": {
    "id": "YJ0tJWb6K2pz"
   },
   "source": [
    "|Do|not|use|these|variable|names|in|Python\n",
    "|--|--|--|--|--|--|--|--\n",
    "|and|assert| break|exec| not| lambda|yield|with\n",
    "|while|try| raise|print| pass| or| is| win\n",
    "|import| if| global| from| for| finally|else|elif\n",
    "|del|def|continue|class|return| True|False|except"
   ]
  },
  {
   "cell_type": "markdown",
   "metadata": {
    "id": "hulwl26p8RGg"
   },
   "source": [
    "### Alıştırmalar (Değişkenler)\n",
    "Bir kelime (string), bir küsüratlı sayı (float) ve bir tamsayı (integer) oluşturun:\n",
    "String _mystring_ olarak adlandırılmalı ve \"LovePython\" kelimesini içermelidir.\n",
    "Float, _myfloat_ olarak adlandırılmalı ve 6.0 değerini içermelidir.\n",
    "Integer _myint_ olarak adlandırılmalı ve 4 değerini içermelidir."
   ]
  },
  {
   "cell_type": "code",
   "execution_count": null,
   "metadata": {
    "colab": {
     "base_uri": "https://localhost:8080/"
    },
    "id": "37NHDb3R8bWW",
    "outputId": "5a670dd5-2d83-43c7-bbb8-e6f589b9fbd9",
    "tags": []
   },
   "outputs": [],
   "source": [
    "mystring = \"LovePython\"\n",
    "myfloat = 6.0\n",
    "myint = 4\n",
    "\n",
    "# test edelim\n",
    "if mystring == \"LovePython\":\n",
    "    print(\"String: %s\" % mystring)"
   ]
  },
  {
   "cell_type": "code",
   "execution_count": null,
   "metadata": {},
   "outputs": [],
   "source": [
    "my_name = \"Ahmet\"\n",
    "print(\"Let's talk about %s.\" % my_name)\n",
    "\n",
    "my_height = 1.78\n",
    "print(\"He's %f meters tall.\" % my_height)\n",
    "\n",
    "my_weight = 71\n",
    "print(\"He's %i kg heavy.\" % my_weight)"
   ]
  },
  {
   "cell_type": "markdown",
   "metadata": {
    "id": "rqSDJ5aHm2oH"
   },
   "source": [
    "## Listeler"
   ]
  },
  {
   "cell_type": "markdown",
   "metadata": {
    "id": "cd21VLBXm-Ku"
   },
   "source": [
    "Python farklı veri türleri sunar. Liste, Python'da en sık kullanılan veri türlerinden biridir. Liste bir *değerler* topluluğudur ve köşeli parantezler \"[]\" ile gösterilir. Listedeki değerler farklı tiplerde olabilir (integer, float, string vb.) ve virgül \",\" ile ayrılır.\n",
    "İşte bazı örnekler:"
   ]
  },
  {
   "cell_type": "code",
   "execution_count": null,
   "metadata": {
    "id": "EBaJL4EGoipu"
   },
   "outputs": [],
   "source": [
    "# boş liste\n",
    "my_list = []\n",
    "\n",
    "# integer listesi\n",
    "my_list = [2, 5, 8, 9]\n",
    "\n",
    "# string listesi\n",
    "my_list = ['Monday', 'Tuesday', 'Wednesday', 'Thursday', 'Friday']"
   ]
  },
  {
   "cell_type": "markdown",
   "metadata": {
    "id": "afqaydc7Lv9F"
   },
   "source": [
    "Herhangi bir liste için listenin elemanlarına tek tek erişmek, listeden eleman çıkarmak/listeden eleman eklemek gibi farklı işlemler yapabiliriz. Bir sayı listemiz olduğunda, listede her türlü matematiksel işlemi (örneğin çarpma, bölme, çıkarma) yapabiliriz.\n",
    "\n",
    "Listedeki her bir öğeye, o öğenin dizini kullanılarak erişilebileceğini unutmayın. Örneğin *my_list*'te 'Monday' dizini 0: my_list[0] = 'Monday' vb.\n",
    "Dizin aralığını tanımlayarak da bir grup öğeye erişebiliriz, örneğin my_list[0:2] = ['Monday', 'Tuesday']\n",
    "\n",
    "Kendiniz denemek için hemen aşağı boş bir hücre ekleyebilirsiniz. Hücre eklemek için + işaretini kullanmanız, ya da herhangi bir hücre seçiliyken sadece B harfine tıklamanız yeterli. B harfi ilgili hücrenin altına, A harfi ise üstüne yeni boş bir hücre ekler.\n"
   ]
  },
  {
   "cell_type": "markdown",
   "metadata": {
    "id": "SPbIm93NwHNC"
   },
   "source": [
    "### Listelerde Bazı İşlemler"
   ]
  },
  {
   "cell_type": "code",
   "execution_count": null,
   "metadata": {
    "id": "bD6m2mWNMckv"
   },
   "outputs": [],
   "source": [
    "# Bir asal sayı listesi yarat\n",
    "primes = [2,3,5,7,9,11]"
   ]
  },
  {
   "cell_type": "code",
   "execution_count": null,
   "metadata": {
    "colab": {
     "base_uri": "https://localhost:8080/"
    },
    "id": "5oLk1BcNw4pI",
    "outputId": "122ab2d6-85f1-497b-943a-d5811b535ad6"
   },
   "outputs": [],
   "source": [
    "# Bu objenin tipini sorgula\n",
    "type(primes)"
   ]
  },
  {
   "cell_type": "code",
   "execution_count": null,
   "metadata": {
    "colab": {
     "base_uri": "https://localhost:8080/"
    },
    "id": "RuQAWMs8w7gm",
    "outputId": "e77623a2-cca6-4c7d-f785-4f68bed9886a"
   },
   "outputs": [],
   "source": [
    "# Listenin içine bak\n",
    "print(primes)"
   ]
  },
  {
   "cell_type": "code",
   "execution_count": null,
   "metadata": {
    "colab": {
     "base_uri": "https://localhost:8080/"
    },
    "id": "fGITo6GARzY7",
    "outputId": "73708399-7e17-4c02-cc45-4a78457b2c70"
   },
   "outputs": [],
   "source": [
    "# Listenin uzunluğunu kontrol et\n",
    "len(primes)"
   ]
  },
  {
   "cell_type": "code",
   "execution_count": null,
   "metadata": {
    "colab": {
     "base_uri": "https://localhost:8080/"
    },
    "id": "BjNL9A_WAalY",
    "outputId": "9d6426ba-6834-4ffc-b17f-918ae61f0aae"
   },
   "outputs": [],
   "source": [
    "# Listenin sonuna yeni bir eleman ekle\n",
    "primes.append(17)\n",
    "primes"
   ]
  },
  {
   "cell_type": "markdown",
   "metadata": {
    "id": "fscZpO8tDRg0"
   },
   "source": [
    "Bazı işlevsel liste metodları:\n",
    "\n",
    "insert, extend, index, remove, sort, reverse, pop, ..."
   ]
  },
  {
   "cell_type": "code",
   "execution_count": null,
   "metadata": {
    "colab": {
     "base_uri": "https://localhost:8080/"
    },
    "id": "lJtmTBykGjNj",
    "outputId": "40c51041-b99b-4fc4-ec21-1d1d0b32ce08",
    "tags": []
   },
   "outputs": [],
   "source": [
    "# Listenin belli bir noktasına yeni bir eleman ekleyebileceğimiz gibi, \n",
    "# listeyi birden çok sayıda elemanla genişletmemiz de mümkün \n",
    "\n",
    "my_list = ['red', 'blue', 'yellow']\n",
    "\n",
    "my_list.insert(0, 'black')\n",
    "\n",
    "new_list = ['gray', 'orange']\n",
    "\n",
    "my_list.extend(new_list)\n",
    "print(my_list)"
   ]
  },
  {
   "cell_type": "markdown",
   "metadata": {
    "id": "Yu7Usgab1_xd"
   },
   "source": [
    "### Alıştırmalar (Listeler)"
   ]
  },
  {
   "cell_type": "markdown",
   "metadata": {
    "id": "BRDoQ6SA2JKm"
   },
   "source": [
    "1- Bir listedeki tüm öğeleri toplayan bir Python programı yazın."
   ]
  },
  {
   "cell_type": "code",
   "execution_count": null,
   "metadata": {
    "id": "lFp7dLCOwA8V"
   },
   "outputs": [],
   "source": [
    "x=[1,2,3,18,35]\n",
    "\n",
    "sum(x)"
   ]
  },
  {
   "cell_type": "markdown",
   "metadata": {
    "id": "PfmzoSXB2NSZ"
   },
   "source": [
    "2- Bir listeden en büyük ve en küçük sayıyı almak için bir Python programı yazın."
   ]
  },
  {
   "cell_type": "code",
   "execution_count": null,
   "metadata": {
    "id": "nLpGz8_RxwOR"
   },
   "outputs": [],
   "source": [
    "print(min(x))\n",
    "print(max(x))"
   ]
  },
  {
   "cell_type": "markdown",
   "metadata": {
    "id": "GGVagAN-KTLs"
   },
   "source": [
    "## String"
   ]
  },
  {
   "cell_type": "markdown",
   "metadata": {
    "id": "a8Kzdn3B_P3l"
   },
   "source": [
    "Python'daki stringler, tek veya çift tırnak işaretiyle çevrilidir, ör. a = \"We Love Python!\". Stringler aslında _immutable_ (yani değiştirilemez, modifiye edilemez) listeleridir (_mutable_ olan bir listenin aksine)."
   ]
  },
  {
   "cell_type": "code",
   "execution_count": null,
   "metadata": {
    "id": "m0BEZkn3Sor1"
   },
   "outputs": [],
   "source": [
    "a = \"We Love Python!\""
   ]
  },
  {
   "cell_type": "markdown",
   "metadata": {
    "id": "_wTN_BqSC658"
   },
   "source": [
    "Python'da stringlere uygulanacak çok sayıda yerleşik işlev vardır. Örneğin, _split_ işlevi, belirtilen bir ayırıcıya dayalı olarak stringi tek parça listesine böler."
   ]
  },
  {
   "cell_type": "code",
   "execution_count": null,
   "metadata": {
    "colab": {
     "base_uri": "https://localhost:8080/"
    },
    "id": "3kJxdlogKXLE",
    "outputId": "ff983c77-b213-4d5f-95c2-75afe2730b3a"
   },
   "outputs": [],
   "source": [
    "# Örnek: a değişkenini 3 kelimeye bölün\n",
    "print(a.split(' '))"
   ]
  },
  {
   "cell_type": "code",
   "execution_count": null,
   "metadata": {
    "colab": {
     "base_uri": "https://localhost:8080/"
    },
    "id": "OaYTMry0HIoF",
    "outputId": "ce95dda9-d9d0-49db-9a12-88344e47c541"
   },
   "outputs": [],
   "source": [
    "# Örnek: bir dizeyi başka bir dizeye ekleyin\n",
    "a = \"We Love Python!\"\n",
    "b= \"Python Loves Us!\"\n",
    "c = a + \" \" + b\n",
    "print(c)"
   ]
  },
  {
   "cell_type": "code",
   "execution_count": null,
   "metadata": {},
   "outputs": [],
   "source": [
    "len(a)"
   ]
  },
  {
   "cell_type": "markdown",
   "metadata": {
    "id": "myAEeiHNtnq_"
   },
   "source": [
    "## Sözlükler"
   ]
  },
  {
   "cell_type": "markdown",
   "metadata": {
    "id": "H_14pCvT-zxs"
   },
   "source": [
    "Önceki bölümlerde Python listelerini ve ne kadar güçlü olduklarını öğrendik. Bu bölümde Python'da sözlük yani *dictionary* adlı başka bir veri tipi öğreneceğiz. Sözlükler ve onların güçlü uygulamaları, Python'u bu kadar etkili ve üstün yapan şeyin bir diğer parçasıdır. Listeler gibi kolayca değiştirilebilirler, çalışırken küçültülebilir ve büyütülebilirler. Kopyalama zorunluluğu olmadan küçülür ve büyürler. Sözlükler listelerin içinde yer alabilirler veya bunun tersi de olabilir.\n",
    "\n",
    "Bir sözlük, anahtar/değer (key/value) çiftlerinin virgülle ayrılmış bir listesini süslü parantezler ({}) içine alarak tanımlanabilir. İki nokta üst üste (:), her anahtarı ilişkili değerinden ayırır:\n",
    "\n",
    "```\n",
    "dict = {\n",
    "             <anahtar1>:<değer1>,\n",
    "             <anahtar2>:<değer2>,\n",
    "             .\n",
    "             .\n",
    "             .\n",
    "             <anahtarn>:<değern>\n",
    "             }\n",
    "```\n",
    "\n",
    "Örneğin:"
   ]
  },
  {
   "cell_type": "markdown",
   "metadata": {
    "id": "VKNY2xtt_Sye"
   },
   "source": []
  },
  {
   "cell_type": "code",
   "execution_count": null,
   "metadata": {
    "id": "U-MSEUYI_5Eh"
   },
   "outputs": [],
   "source": [
    "Movie = {\n",
    "  \"name\": \"Twin Peaks\",\n",
    "  \"director\": \"David Lynch\",\n",
    "  \"year\": 1990\n",
    "}"
   ]
  },
  {
   "cell_type": "markdown",
   "metadata": {
    "id": "d3nK1weiAx1j"
   },
   "source": [
    "Bir listedeki öğelere erişmekte veya değiştirmekte kullandığımız yöntemlere benzer şekilde, bir *sözlükteki* anahtarları ve öğeleri değiştirme veya bunlara erişme yöntemleri de vardır. *sözlükteki* öğelere erişmek için *item()* veya *keys()* kullanabiliriz. İşte bazı örnekler:"
   ]
  },
  {
   "cell_type": "code",
   "execution_count": null,
   "metadata": {
    "colab": {
     "base_uri": "https://localhost:8080/"
    },
    "id": "LQdLgrmwBGzz",
    "outputId": "af33d6c3-c994-4123-f5ed-43b645cc690c"
   },
   "outputs": [],
   "source": [
    "# keys() sözlükteki tüm anahtarları verir\n",
    "print('all the keys in the Movie dictionary:', Movie.keys())\n",
    "# items(), sözlükteki ilgili çiftlerin (anahtarlar, değerler) bir listesini verir\n",
    "print('all the items in the Movie dictionary:', Movie.items())"
   ]
  },
  {
   "cell_type": "markdown",
   "metadata": {
    "id": "Dt4pr4KBCVNu"
   },
   "source": [
    "Bir sözlüğü değiştirmeye yönelik diğer yöntem örnekleri arasında *get()*, *copy()*, *update()*, *pop()* vb. sayılabilir.\n",
    "\n",
    "Bunları daha iyi anlamak için aşağıdaki alıştırmaları bu yöntemleri kullanarak yapın."
   ]
  },
  {
   "cell_type": "markdown",
   "metadata": {
    "id": "V1w1nt7xtu10"
   },
   "source": [
    "### Alıştırmalar (sözlükler)"
   ]
  },
  {
   "cell_type": "markdown",
   "metadata": {
    "id": "R3XLrN_qvbGo"
   },
   "source": [
    "1- Movie sözlüğünün \"name\" değerini yazdırmak için `get` yöntemini kullanın."
   ]
  },
  {
   "cell_type": "code",
   "execution_count": null,
   "metadata": {
    "id": "nNZQtidr1qE5"
   },
   "outputs": [],
   "source": [
    "Movie.get(\"name\")"
   ]
  },
  {
   "cell_type": "markdown",
   "metadata": {
    "id": "lQ9reAAqvrAc"
   },
   "source": [
    "2- Yılı 1990'dan \"1991\" olarak değiştirin."
   ]
  },
  {
   "cell_type": "code",
   "execution_count": null,
   "metadata": {
    "id": "NfL5jUhc2HcV"
   },
   "outputs": [],
   "source": [
    "Movie.update({\"year\":\"April 1990\"})\n",
    "Movie"
   ]
  },
  {
   "cell_type": "markdown",
   "metadata": {
    "id": "9k2T5_2uvX1V"
   },
   "source": [
    "3- \"genre\" : \"mystery/drama/horror\" anahtar/değer çiftini Movie sözlüğüne ekleyin."
   ]
  },
  {
   "cell_type": "code",
   "execution_count": null,
   "metadata": {
    "id": "Q37fs5WH4VnE"
   },
   "outputs": [],
   "source": [
    "Movie.update({\"genre\" : \"mystery/drama/horror\"})\n",
    "Movie"
   ]
  },
  {
   "cell_type": "markdown",
   "metadata": {
    "id": "pToyetRnxP62"
   },
   "source": [
    "4- Movie sözlüğünden \"genre\" anahtarını seçmek ve ekrana yansıtmak için `pop` yöntemini kullanın."
   ]
  },
  {
   "cell_type": "code",
   "execution_count": null,
   "metadata": {
    "id": "4h4aEqtp4gCO"
   },
   "outputs": [],
   "source": [
    "Movie.pop(\"genre\")\n",
    "Movie"
   ]
  },
  {
   "cell_type": "markdown",
   "metadata": {
    "id": "7lnNC9YOTb-7"
   },
   "source": [
    "## Operatörler"
   ]
  },
  {
   "cell_type": "markdown",
   "metadata": {
    "id": "wk_fAL6KQnIq"
   },
   "source": [
    "Python, Aritmetik operatörler, Mantıksal operatörler, Karşılaştırma operatörleri vb. gibi birçok farklı operatör türlerini destekler. Bir operatörün ne olduğunu bir örnekle açıklayalım. `\"12*7\"` ifadesi içinde, `'*'` ifadesi bir operatördür.`12` ve `7` ise işlenen olarak adlandırılır. Aşağıda, özellikle veri analizi için önemli olan bu operatörlerden bazılarını ele alıyoruz."
   ]
  },
  {
   "cell_type": "markdown",
   "metadata": {
    "id": "TRLxCBTGd2TB"
   },
   "source": [
    "### Aritmetik operatörler"
   ]
  },
  {
   "cell_type": "markdown",
   "metadata": {
    "id": "LMmOKSiphEoQ"
   },
   "source": [
    "Adından da anlaşılacağı gibi Python'daki aritmetik operatörler sayılarla çalışır ve tüm geleneksel cebir işlemleri kolayca erişilebilir hale getirir."
   ]
  },
  {
   "cell_type": "markdown",
   "metadata": {
    "id": "cyk56vbvd50t"
   },
   "source": [
    "|Operatör| Açıklama| Örnek\n",
    "|---|-|-\n",
    "| + Toplama | Değerleri ekler| a + b\n",
    "| - Çıkarma | Sağ işleneni sol işlenenden çıkarır | a - b\n",
    "| * Çarpma | Değerleri çarpar | a * b\n",
    "| / Bölme | Sol işleneni sağ işlenene böler | a / b\n",
    "| ** Kuvvet | Kuvvet hesaplama | a ** 2\n",
    "| % Kalan | Sol işlenenin sağ işlenene bölünmesinden kalanı hesaplar| a % b\n",
    "| // Katlı bölüm | Bölerek en yakın tam sayıya yuvarlar| a // b"
   ]
  },
  {
   "cell_type": "markdown",
   "metadata": {
    "id": "mvdaAQGPy2Ll"
   },
   "source": [
    "### Mantıksal operatörler"
   ]
  },
  {
   "cell_type": "markdown",
   "metadata": {
    "id": "qsKwl1jEhqKO"
   },
   "source": [
    "Mantıksal operatörler, Boolean cebirinin bir parçasıdır ve \"True\" (1) veya \"False\" (0) olmak üzere iki değerle çalışır."
   ]
  },
  {
   "cell_type": "markdown",
   "metadata": {
    "id": "1TgOJXsxy5Fo"
   },
   "source": [
    "|Operatör | Açıklama | Örnek\n",
    "|----|-|-\n",
    "| not | mantıksal durumu tersine çevirir | `not a = False` eğer a = True \n",
    "| and| ifade ancak ve ancak tüm işlenenler doğruysa doğrudur | `a and b = True` eğer a = True and b = True\n",
    "|or| ifade, ancak ve ancak işlenenlerinden biri veya daha fazlası doğruysa doğrudur | `a or b = True` eğer a = True or b = True"
   ]
  },
  {
   "cell_type": "markdown",
   "metadata": {
    "id": "hQvnZgkwijIl"
   },
   "source": [
    "### Karşılaştırma operatörleri"
   ]
  },
  {
   "cell_type": "markdown",
   "metadata": {
    "id": "EyMDJS2Wil-2"
   },
   "source": [
    "Karşılaştırma operatörleri değerleri karşılaştırmak için kullanılır. Karşılaştırma işleçlerinin sonucu \"True\" veya \"False\" olur."
   ]
  },
  {
   "cell_type": "markdown",
   "metadata": {
    "id": "in65lfG4jcbu"
   },
   "source": [
    "|Operatör|Açıklama|Örnek|\n",
    "|---|-|-|\n",
    "|< | küçük | a < b|\n",
    "|<= | küçük eşit | a <= b|\n",
    "|>| büyük | a > b|\n",
    "|>=| büyük eşit | a >= b|\n",
    "| == | eşit | a == b|\n",
    "|!=| eşit değil| a != b|\n"
   ]
  },
  {
   "cell_type": "code",
   "execution_count": null,
   "metadata": {
    "colab": {
     "base_uri": "https://localhost:8080/"
    },
    "id": "we-7LyyCdYc-",
    "outputId": "2101f03d-d942-4131-add4-78af57ea7d53"
   },
   "outputs": [],
   "source": [
    "a = 6\n",
    "b = 7\n",
    "c = 42\n",
    "print(1, a == 6)\n",
    "print(2, a == 7)\n",
    "print(3, a == 6 and b == 7)\n",
    "print(4, a == 7 and b == 7)\n",
    "print(5, not a == 7 and b == 7)\n",
    "print(6, a == 7 or b == 7)\n",
    "print(7, a == 7 or b == 6)\n",
    "print(8, not (a == 7 and b == 6))\n",
    "print(9, not a == 7 and b == 6)"
   ]
  },
  {
   "cell_type": "markdown",
   "metadata": {
    "id": "w4j_pC8egbeV"
   },
   "source": [
    "## Eğer (if) ifadesi ve döngüler"
   ]
  },
  {
   "cell_type": "markdown",
   "metadata": {
    "id": "Hk36sUR3SosA"
   },
   "source": [
    "### Eğer ifadesi"
   ]
  },
  {
   "cell_type": "markdown",
   "metadata": {
    "id": "U65DRWohgd0z"
   },
   "source": [
    "Koşullu ifadelerde, nasıl devam edeceğimize karar vermek için mantıksal bir sonuç kullanırız. r değişkeninde saklanan değerin bir eşik değerinden büyük olup olmadığını kontrol ettiğimiz aşağıdaki kod satırlarını inceleyebilirsiniz. Sonuca bağlı olarak farklı eylemlerin gerçekleşmesini önden planlayabiliriz, yani programımızın sonraki adımlarını 'r' değişkeninin değerine koşullandırırız."
   ]
  },
  {
   "cell_type": "code",
   "execution_count": null,
   "metadata": {
    "colab": {
     "base_uri": "https://localhost:8080/"
    },
    "id": "8_JHltBAg68I",
    "outputId": "5207f8b7-ed64-455d-de8e-94e8004191bd"
   },
   "outputs": [],
   "source": [
    "r = 2.4\n",
    "if r > 2.4:\n",
    "    event = 1\n",
    "elif r == 2.4:\n",
    "    event = 2\n",
    "else:\n",
    "    event = 0\n",
    "print('event is ', event)"
   ]
  },
  {
   "cell_type": "markdown",
   "metadata": {
    "id": "WmEbf6_6kHo0"
   },
   "source": [
    "Eğer (if) ifadesinin en temel formu aşağıdaki gibidir:"
   ]
  },
  {
   "cell_type": "markdown",
   "metadata": {
    "id": "Xqn9230Ys4XB"
   },
   "source": [
    "```\n",
    "if:\n",
    "     ifade1 # koşul True ise yapılacak\n",
    "else:\n",
    "     ifade2 # koşul False ise yapılır\n",
    "\n",
    "```"
   ]
  },
  {
   "cell_type": "markdown",
   "metadata": {
    "id": "rwQekUbpleh1"
   },
   "source": [
    "**Not** Her zaman `if` ve `else`den sonra iki nokta üst üste \" : \" koyduğunuzdan emin olun."
   ]
  },
  {
   "cell_type": "markdown",
   "metadata": {
    "id": "_DZAhNsDQWiA"
   },
   "source": [
    "### Döngüler (For)"
   ]
  },
  {
   "cell_type": "markdown",
   "metadata": {
    "id": "WjLQHugVmd0m"
   },
   "source": [
    "Aynı analizi tekrar tekrar yapmak isteyebiliriz. Örneğin, farklı veri kümeleriniz var ve her biri üzerinde X analizi yapmak istiyorsunuz. Bunu yapmanın bir yolu `for` ifadesini kullanmaktır. İşte bunu yapmak için temel sözdizimi:"
   ]
  },
  {
   "cell_type": "markdown",
   "metadata": {
    "id": "JWnG2uaStiNY"
   },
   "source": [
    "```\n",
    "for değişken_adı in bir_değişken_listesi: # burada döngü başlar\n",
    "   \n",
    "```"
   ]
  },
  {
   "cell_type": "markdown",
   "metadata": {},
   "source": [
    "Bir örnek:"
   ]
  },
  {
   "cell_type": "code",
   "execution_count": null,
   "metadata": {},
   "outputs": [],
   "source": [
    "x = [1,2,3]\n",
    "\n",
    "for i in x:\n",
    "    print(i)"
   ]
  },
  {
   "cell_type": "markdown",
   "metadata": {},
   "source": [
    "Örneğin, '1' ile '9' arasındaki tüm tam sayıların karesini yazdıracak bir kod yazın."
   ]
  },
  {
   "cell_type": "code",
   "execution_count": null,
   "metadata": {
    "colab": {
     "base_uri": "https://localhost:8080/"
    },
    "id": "Pcy5bcb2ryRX",
    "outputId": "0d24da67-84f2-4129-dbc8-a32dd9a96d48",
    "tags": []
   },
   "outputs": [],
   "source": [
    "for i in range(1,10,1):\n",
    "    print('square of ',i, ' is ', i**2)"
   ]
  },
  {
   "cell_type": "markdown",
   "metadata": {},
   "source": [
    "`range(start_value, stop_value, step)` ifadesi, artan veya azalan sayıların listesini yaratır."
   ]
  },
  {
   "cell_type": "code",
   "execution_count": null,
   "metadata": {},
   "outputs": [],
   "source": [
    "for i in range(10):\n",
    "    print('square of ',i, ' is ', i*i)"
   ]
  },
  {
   "cell_type": "code",
   "execution_count": null,
   "metadata": {},
   "outputs": [],
   "source": [
    "my_list = [0,3,5,4,2,7]\n",
    "\n",
    "for i in range(len(my_list)):\n",
    "    j = my_list[i]\n",
    "    print('square of ',j, ' is ', j*j)"
   ]
  },
  {
   "cell_type": "markdown",
   "metadata": {
    "id": "BeNCUX1dSosD"
   },
   "source": [
    "### Alıştırmalar (Eğer ifadesi ve Döngüler)"
   ]
  },
  {
   "cell_type": "markdown",
   "metadata": {
    "id": "zeraJ51oSosD"
   },
   "source": [
    "1- Bir sayı dizisinden çift ve tek sayıların sayısını sayan bir Python programı yazın.\n",
    "```\n",
    "sample_list = [2, 3, 4, 5, 8, 2, 9]\n",
    "```"
   ]
  },
  {
   "cell_type": "code",
   "execution_count": null,
   "metadata": {
    "id": "O4DksbuykogD"
   },
   "outputs": [],
   "source": [
    "sample_list = [2, 3, 4, 5, 8, 2, 9]\n",
    "\n",
    "odd=0\n",
    "even=0\n",
    "\n",
    "for i in sample_list:\n",
    "    if i%2 == 0:\n",
    "        even=even+1\n",
    "    else:\n",
    "        odd=odd+1\n",
    "\n",
    "print(even,odd)"
   ]
  },
  {
   "cell_type": "markdown",
   "metadata": {},
   "source": [
    "2- Liste konusundaki alıştırmalara geri dönelim. Bunları eğer ifadeleri ve döngüler kullanarak çözelim:\n",
    "\n",
    "2.a. Bir listedeki tüm öğeleri toplayan bir Python programı yazın."
   ]
  },
  {
   "cell_type": "code",
   "execution_count": null,
   "metadata": {},
   "outputs": [],
   "source": [
    "x=[1,2,3,18,35]\n",
    "total=0\n",
    "\n",
    "for i in x:\n",
    "    total=x[i]+total\n",
    "\n",
    "print(total)"
   ]
  },
  {
   "cell_type": "markdown",
   "metadata": {},
   "source": [
    "2.b. Bir listeden en büyük ve en küçük sayıyı bulan bir Python programı yazın."
   ]
  },
  {
   "cell_type": "code",
   "execution_count": null,
   "metadata": {},
   "outputs": [],
   "source": [
    "x=[1,2,3,18,35]\n",
    "maximum = x[0]\n",
    "\n",
    "for i in x:\n",
    "    if i>maximum:\n",
    "        maximum=i\n",
    "    else:\n",
    "        continue\n",
    "\n",
    "print(maxim)"
   ]
  },
  {
   "cell_type": "markdown",
   "metadata": {},
   "source": [
    "Burada fonksiyonlara geçmeden ufak bir parantez açalım. Python programı kullanıcıdan girdiler alarak da çalışabilir. Küçük bir örnek yapalım.\n",
    "\n",
    "## Girdiler"
   ]
  },
  {
   "cell_type": "code",
   "execution_count": null,
   "metadata": {
    "id": "PEagxbkwlbJK"
   },
   "outputs": [],
   "source": [
    "print(\"How old are you?\") \n",
    "age = input()\n",
    "print (\"How tall are you?\")\n",
    "height = input()\n",
    "print (\"How much do you weigh?\")\n",
    "weight = input()\n",
    "\n",
    "print(\"Your physical attributes:\", age, height, weight)"
   ]
  },
  {
   "cell_type": "markdown",
   "metadata": {
    "id": "XoVmxIlhQjdQ"
   },
   "source": [
    "## Fonksiyonlar"
   ]
  },
  {
   "cell_type": "markdown",
   "metadata": {
    "id": "yUociwNmaILe"
   },
   "source": [
    "Fonksiyon, belirli bir görev için yazılmış bir kod parçasıdır. Örneğin, bir grup değerin ortalamasını hesaplayan bir fonksiyon yazılabilir. Fonksiyonlar programlamada çok faydalıdır çünkü bir kez yazılır ve sonsuz kez kullanılabilirler. Etkili bir fonksiyonun nasıl yazılacağını öğrenmek, programlamayı legolarla oynamak haline getirir. Karmaşık bir problemi çözmek için onu parçalara ayırmamız ve her parça için bir fonksiyon yazmamız gerekir. Sonunda bu fonksiyonları legolar gibi bir araya getirmek bize sorunun çözümünü verir.\n",
    "\n",
    "İşte bir Python fonksiyonu örneği:"
   ]
  },
  {
   "cell_type": "code",
   "execution_count": null,
   "metadata": {
    "colab": {
     "base_uri": "https://localhost:8080/"
    },
    "id": "fVSiHNtWcQ4a",
    "outputId": "8746e371-b2ef-446f-80e0-acf0b361124b"
   },
   "outputs": [],
   "source": [
    "def greeting(name): # Fonksiyon başlığı\n",
    "    \"\"\"Returns a greeting given a name.\"\"\" # Fonksiyon belgesi: işlevin neyle ilgili olduğunun açıklaması\n",
    "    #----- Bu aralık fonksiyon gövdesi ---------------------#\n",
    "    message = \"Hello lovely \" + name + \".\\n\"\n",
    "    message = message + \"You are the best!\"\n",
    "    #-------------------------------------------------------#\n",
    "    return message # return statement\n",
    "\n",
    "print(greeting('Ahmet'))"
   ]
  },
  {
   "cell_type": "markdown",
   "metadata": {
    "id": "cGcTXp9zdz4E"
   },
   "source": [
    "- Fonksiyon başlığı\n",
    "\n",
    "Fonksiyon, **def** anahtar sözcüğüyle başlar, ardından fonksiyon adı ve fonksiyonun girdileri (veya bağımsız değişkenleri) gelir. Yukarıdaki örnekte, fonksiyonun adı *greeting* ve v argümanı *name*'dir.\n",
    "\n",
    "- Fonksiyon belgesi\n",
    "\n",
    "Fonksiyon belgesi, fonksiyonun ne yaptığını açıklamak için kullanılır. Kural, döküman dizilerinin etrafında \"\"\"üçlü çift tırnak\"\"\" kullanmaktır.\n",
    "\n",
    "- Fonksiyon gövdesi\n",
    "\n",
    "Fonksiyon gövdesi, fonksiyonun yapması gereken şeyden oluşur. Fonksiyon her çağrıldığında çalışan bölümdür.\n",
    "\n",
    "- Çıktı (return)\n",
    "\n",
    "Çıktı, isteğe bağlı olarak bir ifadeyi fonksiyonun dışına taşır.\n",
    "\n",
    "**Örnek** 'a' ve 'b' olmak üzere iki girdi alan ve a ve b'nin toplamını veren bir fonksiyon yazalım."
   ]
  },
  {
   "cell_type": "code",
   "execution_count": null,
   "metadata": {
    "colab": {
     "base_uri": "https://localhost:8080/"
    },
    "id": "R-wIu2yasd_a",
    "outputId": "497b10f9-f27b-4c2d-de1a-45562482d23d",
    "tags": []
   },
   "outputs": [],
   "source": [
    "def sum_two_number(a,b):\n",
    "    \"\"\"İki sayının toplamını verir\"\"\"\n",
    "    total = a + b\n",
    "    return total\n",
    "print(sum_two_number(10,12))"
   ]
  },
  {
   "cell_type": "markdown",
   "metadata": {
    "id": "r3Ap7Iz3SosG"
   },
   "source": [
    "### Alıştırmalar (Fonksiyonlar)"
   ]
  },
  {
   "cell_type": "markdown",
   "metadata": {
    "id": "mFEwFGpNSosH"
   },
   "source": [
    "1- Üç sayının arasından en büyük olanı bulan bir Python fonksiyonu yazın.\n",
    "\n",
    "İpucu: Önce iki sayı arasından en büyük olanı bulan bir fonksiyon yazın. Ardından, bunu üç sayıya genişletin."
   ]
  },
  {
   "cell_type": "code",
   "execution_count": null,
   "metadata": {
    "id": "VmNIcLVtKGVQ"
   },
   "outputs": [],
   "source": [
    "def maxi(a,b,c):\n",
    "    return max(c,max(a,b))\n",
    "print(maxi(4,10,7))"
   ]
  },
  {
   "cell_type": "markdown",
   "metadata": {
    "id": "9KZS0W-bSosH"
   },
   "source": [
    "2- Bir listedeki tüm sayıları çarpmak için bir Python fonksiyonu yazın.\n",
    "\n",
    "İpucu: Bir for döngüsü kullanın\n",
    "```\n",
    "sample_list = [8, 2, 3, -1, 7]\n",
    "```\n"
   ]
  },
  {
   "cell_type": "code",
   "execution_count": null,
   "metadata": {
    "id": "b8VlSfYtLnZS"
   },
   "outputs": [],
   "source": [
    "def multiplier(my_list):\n",
    "    \n",
    "    multi=1\n",
    "    \n",
    "    for i in sample_list:\n",
    "        multi=i*multi\n",
    "        \n",
    "    return multi\n",
    "    \n",
    "sample_list = [8, 2, 3, -1, 7, 0]\n",
    "print(multiplier(sample_list))"
   ]
  }
 ],
 "metadata": {
  "colab": {
   "collapsed_sections": [],
   "name": "Introduction to Python",
   "provenance": []
  },
  "kernelspec": {
   "display_name": "Python 3 (ipykernel)",
   "language": "python",
   "name": "python3"
  },
  "language_info": {
   "codemirror_mode": {
    "name": "ipython",
    "version": 3
   },
   "file_extension": ".py",
   "mimetype": "text/x-python",
   "name": "python",
   "nbconvert_exporter": "python",
   "pygments_lexer": "ipython3",
   "version": "3.8.8"
  },
  "toc-autonumbering": false,
  "toc-showcode": false,
  "toc-showmarkdowntxt": false,
  "toc-showtags": false
 },
 "nbformat": 4,
 "nbformat_minor": 4
}
